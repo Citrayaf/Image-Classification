{
  "nbformat": 4,
  "nbformat_minor": 0,
  "metadata": {
    "colab": {
      "name": "Resnet.ipynb",
      "provenance": [],
      "collapsed_sections": [],
      "machine_shape": "hm"
    },
    "kernelspec": {
      "name": "python3",
      "display_name": "Python 3"
    },
    "accelerator": "GPU"
  },
  "cells": [
    {
      "cell_type": "code",
      "metadata": {
        "id": "kINUwa7xpuVs",
        "colab_type": "code",
        "colab": {
          "base_uri": "https://localhost:8080/",
          "height": 51
        },
        "outputId": "afd1f211-36f9-442c-f537-678ae6770d03"
      },
      "source": [
        "%tensorflow_version 1.x\n",
        "import keras\n",
        "import numpy as np\n",
        "from keras import layers\n",
        "from keras.layers import Input, Add, Dense, Activation, ZeroPadding2D, BatchNormalization, Flatten, Conv2D, AveragePooling2D, MaxPooling2D, GlobalMaxPooling2D\n",
        "from keras.models import Model, load_model\n",
        "from keras.preprocessing import image\n",
        "from keras.utils import layer_utils\n",
        "from keras.utils.data_utils import get_file\n",
        "from keras.optimizers import Adam, SGD\n",
        "from keras.layers.core import Dropout\n",
        " \n",
        " \n",
        "from keras.applications.imagenet_utils import preprocess_input\n",
        "import pydot\n",
        "from IPython.display import SVG\n",
        "from keras.utils.vis_utils import model_to_dot\n",
        "from keras.utils import plot_model\n",
        "from keras.initializers import glorot_uniform\n",
        "import scipy.misc\n",
        "from matplotlib.pyplot import imshow\n",
        "%matplotlib inline\n",
        "from sklearn.preprocessing import LabelBinarizer\n",
        "from sklearn.model_selection import train_test_split\n",
        "from sklearn.metrics import classification_report\n",
        "from PIL import Image\n",
        "from imutils import paths\n",
        "import os\n",
        " \n",
        "import keras.backend as K\n",
        "K.set_image_data_format('channels_last')\n",
        "K.set_learning_phase(1)"
      ],
      "execution_count": null,
      "outputs": [
        {
          "output_type": "stream",
          "text": [
            "TensorFlow 1.x selected.\n"
          ],
          "name": "stdout"
        },
        {
          "output_type": "stream",
          "text": [
            "Using TensorFlow backend.\n"
          ],
          "name": "stderr"
        }
      ]
    },
    {
      "cell_type": "code",
      "metadata": {
        "id": "5f97JqTqTqpq",
        "colab_type": "code",
        "colab": {
          "base_uri": "https://localhost:8080/",
          "height": 34
        },
        "outputId": "0d0aaae3-d872-4073-8929-f9574f7bb147"
      },
      "source": [
        "%tensorflow_version 1.x\n",
        "import tensorflow"
      ],
      "execution_count": null,
      "outputs": [
        {
          "output_type": "stream",
          "text": [
            "TensorFlow is already loaded. Please restart the runtime to change versions.\n"
          ],
          "name": "stdout"
        }
      ]
    },
    {
      "cell_type": "code",
      "metadata": {
        "id": "mtGDO7O90hDM",
        "colab_type": "code",
        "colab": {
          "base_uri": "https://localhost:8080/",
          "height": 51
        },
        "outputId": "a31fa292-d91f-428f-8830-98d220ee007f"
      },
      "source": [
        "ls /content/gdrive/My\\ Drive/ColabNotebooks"
      ],
      "execution_count": null,
      "outputs": [
        {
          "output_type": "stream",
          "text": [
            " 1.jpg      \u001b[0m\u001b[01;34m'DATA SET TA'\u001b[0m/   \u001b[01;34mMina\u001b[0m/             Untitled1.ipynb\n",
            " \u001b[01;34mdatasets\u001b[0m/   logo.png        Untitled0.ipynb\n"
          ],
          "name": "stdout"
        }
      ]
    },
    {
      "cell_type": "code",
      "metadata": {
        "id": "TK9JXmztqPGg",
        "colab_type": "code",
        "colab": {
          "base_uri": "https://localhost:8080/",
          "height": 122
        },
        "outputId": "13b436a2-d0aa-4fd4-bb2f-d44597f7e94e"
      },
      "source": [
        "from google.colab import drive\n",
        "drive.mount('/content/gdrive', force_remount=True)\n",
        "#### Updated ####\n",
        "\n",
        "#### Updated ####\n",
        "### The following two lines caused the issue:\n",
        "import sys\n",
        "sys.path.append('/content/gdrive/My Drive')\n",
        "### Replacing the above with these two lines solved the issue:\n",
        "import os\n",
        "os.chdir('/content/gdrive/My Drive') # Ch working directory to project folder\n",
        "###"
      ],
      "execution_count": null,
      "outputs": [
        {
          "output_type": "stream",
          "text": [
            "Go to this URL in a browser: https://accounts.google.com/o/oauth2/auth?client_id=947318989803-6bn6qk8qdgf4n4g3pfee6491hc0brc4i.apps.googleusercontent.com&redirect_uri=urn%3aietf%3awg%3aoauth%3a2.0%3aoob&response_type=code&scope=email%20https%3a%2f%2fwww.googleapis.com%2fauth%2fdocs.test%20https%3a%2f%2fwww.googleapis.com%2fauth%2fdrive%20https%3a%2f%2fwww.googleapis.com%2fauth%2fdrive.photos.readonly%20https%3a%2f%2fwww.googleapis.com%2fauth%2fpeopleapi.readonly\n",
            "\n",
            "Enter your authorization code:\n",
            "··········\n",
            "Mounted at /content/gdrive\n"
          ],
          "name": "stdout"
        }
      ]
    },
    {
      "cell_type": "code",
      "metadata": {
        "id": "KxnWYZ1aFhmy",
        "colab_type": "code",
        "colab": {
          "base_uri": "https://localhost:8080/",
          "height": 34
        },
        "outputId": "f3f7cc9c-1ab3-4f1a-c842-7e937d15542d"
      },
      "source": [
        "#setting path gambar di gdrive\n",
        "\n",
        "print(\"[INFO] loading images...\")\n",
        "#imagePaths = paths.list_images('DATA SET TA')\n",
        "imagePaths = paths.list_images('Data Set TA')\n",
        "\n",
        "#imagePaths = paths.list_images('Dataset150')\n",
        "\n",
        "data = []\n",
        "labels = []\n",
        "gambar = []\n",
        "aug = []\n",
        "labels2 = []"
      ],
      "execution_count": null,
      "outputs": [
        {
          "output_type": "stream",
          "text": [
            "[INFO] loading images...\n"
          ],
          "name": "stdout"
        }
      ]
    },
    {
      "cell_type": "code",
      "metadata": {
        "id": "RMUIUg2aq1Oe",
        "colab_type": "code",
        "colab": {
          "base_uri": "https://localhost:8080/",
          "height": 351
        },
        "outputId": "0bcc5819-69ab-446a-cb5a-eee99559df35"
      },
      "source": [
        "#gk usah\n",
        "#ini asli aja\n",
        "for imagePath in imagePaths:\n",
        "\n",
        "  image = Image.open(imagePath)\n",
        "  image = np.array(image.resize((224,224))) / 255.0\n",
        "  data.append(image)\n",
        "\n",
        "  label = imagePath.split(os.path.sep) [-2]\n",
        "  labels.append(label)"
      ],
      "execution_count": null,
      "outputs": [
        {
          "output_type": "error",
          "ename": "KeyboardInterrupt",
          "evalue": "ignored",
          "traceback": [
            "\u001b[0;31m---------------------------------------------------------------------------\u001b[0m",
            "\u001b[0;31mKeyboardInterrupt\u001b[0m                         Traceback (most recent call last)",
            "\u001b[0;32m<ipython-input-9-8216e1c751d9>\u001b[0m in \u001b[0;36m<module>\u001b[0;34m()\u001b[0m\n\u001b[1;32m      1\u001b[0m \u001b[0;32mfor\u001b[0m \u001b[0mimagePath\u001b[0m \u001b[0;32min\u001b[0m \u001b[0mimagePaths\u001b[0m\u001b[0;34m:\u001b[0m\u001b[0;34m\u001b[0m\u001b[0;34m\u001b[0m\u001b[0m\n\u001b[1;32m      2\u001b[0m \u001b[0;34m\u001b[0m\u001b[0m\n\u001b[0;32m----> 3\u001b[0;31m   \u001b[0mimage\u001b[0m \u001b[0;34m=\u001b[0m \u001b[0mImage\u001b[0m\u001b[0;34m.\u001b[0m\u001b[0mopen\u001b[0m\u001b[0;34m(\u001b[0m\u001b[0mimagePath\u001b[0m\u001b[0;34m)\u001b[0m\u001b[0;34m\u001b[0m\u001b[0;34m\u001b[0m\u001b[0m\n\u001b[0m\u001b[1;32m      4\u001b[0m   \u001b[0mimage\u001b[0m \u001b[0;34m=\u001b[0m \u001b[0mnp\u001b[0m\u001b[0;34m.\u001b[0m\u001b[0marray\u001b[0m\u001b[0;34m(\u001b[0m\u001b[0mimage\u001b[0m\u001b[0;34m.\u001b[0m\u001b[0mresize\u001b[0m\u001b[0;34m(\u001b[0m\u001b[0;34m(\u001b[0m\u001b[0;36m224\u001b[0m\u001b[0;34m,\u001b[0m\u001b[0;36m224\u001b[0m\u001b[0;34m)\u001b[0m\u001b[0;34m)\u001b[0m\u001b[0;34m)\u001b[0m \u001b[0;34m/\u001b[0m \u001b[0;36m255.0\u001b[0m\u001b[0;34m\u001b[0m\u001b[0;34m\u001b[0m\u001b[0m\n\u001b[1;32m      5\u001b[0m   \u001b[0mdata\u001b[0m\u001b[0;34m.\u001b[0m\u001b[0mappend\u001b[0m\u001b[0;34m(\u001b[0m\u001b[0mimage\u001b[0m\u001b[0;34m)\u001b[0m\u001b[0;34m\u001b[0m\u001b[0;34m\u001b[0m\u001b[0m\n",
            "\u001b[0;32m/usr/local/lib/python3.6/dist-packages/PIL/Image.py\u001b[0m in \u001b[0;36mopen\u001b[0;34m(fp, mode)\u001b[0m\n\u001b[1;32m   2816\u001b[0m         \u001b[0mexclusive_fp\u001b[0m \u001b[0;34m=\u001b[0m \u001b[0;32mTrue\u001b[0m\u001b[0;34m\u001b[0m\u001b[0;34m\u001b[0m\u001b[0m\n\u001b[1;32m   2817\u001b[0m \u001b[0;34m\u001b[0m\u001b[0m\n\u001b[0;32m-> 2818\u001b[0;31m     \u001b[0mprefix\u001b[0m \u001b[0;34m=\u001b[0m \u001b[0mfp\u001b[0m\u001b[0;34m.\u001b[0m\u001b[0mread\u001b[0m\u001b[0;34m(\u001b[0m\u001b[0;36m16\u001b[0m\u001b[0;34m)\u001b[0m\u001b[0;34m\u001b[0m\u001b[0;34m\u001b[0m\u001b[0m\n\u001b[0m\u001b[1;32m   2819\u001b[0m \u001b[0;34m\u001b[0m\u001b[0m\n\u001b[1;32m   2820\u001b[0m     \u001b[0mpreinit\u001b[0m\u001b[0;34m(\u001b[0m\u001b[0;34m)\u001b[0m\u001b[0;34m\u001b[0m\u001b[0;34m\u001b[0m\u001b[0m\n",
            "\u001b[0;31mKeyboardInterrupt\u001b[0m: "
          ]
        }
      ]
    },
    {
      "cell_type": "code",
      "metadata": {
        "id": "F6ClxkS8EeBJ",
        "colab_type": "code",
        "colab": {}
      },
      "source": [
        "#Function buat Augmentasi\n",
        "from tensorflow.keras.preprocessing.image import ImageDataGenerator\n",
        "\n",
        "datagen = ImageDataGenerator(\n",
        "      rotation_range=40,\n",
        "      width_shift_range=0.2,\n",
        "      height_shift_range=0.2,\n",
        "      shear_range=0.2,\n",
        "      zoom_range=0.2,\n",
        "      horizontal_flip=True,\n",
        "      fill_mode='nearest')"
      ],
      "execution_count": null,
      "outputs": []
    },
    {
      "cell_type": "code",
      "metadata": {
        "id": "nRTZGzbfEk5o",
        "colab_type": "code",
        "colab": {}
      },
      "source": [
        "#masukin gambar warna dengan augmentasi dan asli \n",
        "\n",
        "for imagePath in imagePaths:\n",
        "\n",
        "  a = Image.open(imagePath)\n",
        "  image = np.array(a.resize((224,224))) / 255.0\n",
        "  x = image\n",
        "\n",
        "  data.append(x)\n",
        "  label = imagePath.split(os.path.sep) [-2]\n",
        "  labels.append(label)\n",
        "\n",
        "  aug.append(x)\n",
        "  x = x.reshape((1,) + x.shape)  # Numpy array with shape (1, 150, 150, 3)\n",
        "  \n",
        "  i = 0\n",
        "  label = imagePath.split(os.path.sep) [-2]\n",
        "  labels2.append(label)\n",
        "  for batch in datagen.flow(x, batch_size=1):\n",
        "    mas = x[0,:,:,:] #( 150, 150, 3)\n",
        "    aug.append(mas)\n",
        "    label = imagePath.split(os.path.sep) [-2]\n",
        "    labels2.append(label)\n",
        "    i += 1\n",
        "    if i % 3 == 0:\n",
        "      break \n",
        "  \n"
      ],
      "execution_count": null,
      "outputs": []
    },
    {
      "cell_type": "code",
      "metadata": {
        "id": "u-3HkLFOEt3F",
        "colab_type": "code",
        "colab": {
          "base_uri": "https://localhost:8080/",
          "height": 173
        },
        "outputId": "026f4a8b-c71b-4392-f2bc-c84b08e4f0f1"
      },
      "source": [
        "#ini one hot encodingnya dataset pake augmentasi, bisa dipake warna dan gray\n",
        "print(labels2)\n",
        "lb = LabelBinarizer()\n",
        "labels2 = lb.fit_transform(labels2)\n",
        "print(labels2)"
      ],
      "execution_count": null,
      "outputs": [
        {
          "output_type": "stream",
          "text": [
            "['GMB1', 'GMB1', 'GMB1', 'GMB1', 'GMB1', 'GMB1', 'GMB1', 'GMB1', 'GMB1', 'GMB1', 'GMB1', 'GMB1', 'GMB1', 'GMB1', 'GMB1', 'GMB1', 'GMB1', 'GMB1', 'GMB1', 'GMB1', 'GMB1', 'GMB1', 'GMB1', 'GMB1', 'GMB1', 'GMB1', 'GMB1', 'GMB1', 'GMB1', 'GMB1', 'GMB1', 'GMB1', 'GMB1', 'GMB1', 'GMB1', 'GMB1', 'GMB1', 'GMB1', 'GMB1', 'GMB1', 'GMB1', 'GMB1', 'GMB1', 'GMB1', 'GMB1', 'GMB1', 'GMB1', 'GMB1', 'GMB1', 'GMB1', 'GMB1', 'GMB1', 'GMB1', 'GMB1', 'GMB1', 'GMB1', 'GMB1', 'GMB1', 'GMB1', 'GMB1', 'GMB1', 'GMB1', 'GMB1', 'GMB1', 'GMB1', 'GMB1', 'GMB1', 'GMB1', 'GMB1', 'GMB1', 'GMB1', 'GMB1', 'GMB1', 'GMB1', 'GMB1', 'GMB1', 'GMB1', 'GMB1', 'GMB1', 'GMB1', 'GMB1', 'GMB1', 'GMB1', 'GMB1', 'GMB1', 'GMB1', 'GMB1', 'GMB1', 'GMB1', 'GMB1', 'GMB1', 'GMB1', 'GMB1', 'GMB1', 'GMB1', 'GMB1', 'GMB1', 'GMB1', 'GMB1', 'GMB1', 'GMB1', 'GMB1', 'GMB1', 'GMB1', 'GMB1', 'GMB1', 'GMB1', 'GMB1', 'GMB1', 'GMB1', 'GMB1', 'GMB1', 'GMB1', 'GMB1', 'GMB1', 'GMB1', 'GMB1', 'GMB1', 'GMB1', 'GMB1', 'GMB1', 'GMB1', 'GMB1', 'GMB1', 'GMB1', 'GMB1', 'GMB1', 'GMB1', 'GMB1', 'GMB1', 'GMB1', 'GMB1', 'GMB1', 'GMB1', 'GMB1', 'GMB1', 'GMB1', 'GMB1', 'GMB1', 'GMB1', 'GMB1', 'GMB1', 'GMB1', 'GMB1', 'GMB1', 'GMB1', 'GMB1', 'GMB1', 'GMB1', 'GMB1', 'GMB1', 'GMB1', 'GMB1', 'GMB1', 'GMB1', 'GMB1', 'GMB1', 'GMB1', 'GMB1', 'GMB1', 'GMB1', 'GMB1', 'GMB1', 'GMB1', 'GMB1', 'GMB1', 'GMB1', 'GMB1', 'GMB1', 'GMB1', 'GMB1', 'GMB1', 'GMB1', 'GMB1', 'GMB1', 'GMB1', 'GMB1', 'GMB1', 'GMB1', 'GMB1', 'GMB1', 'GMB1', 'GMB1', 'GMB1', 'GMB1', 'GMB1', 'GMB1', 'GMB1', 'GMB1', 'GMB1', 'GMB1', 'GMB1', 'GMB1', 'GMB1', 'GMB1', 'GMB1', 'GMB1', 'GMB1', 'GMB1', 'GMB1', 'GMB1', 'GMB1', 'GMB1', 'GMB1', 'GMB1', 'GMB1', 'GMB1', 'GMB1', 'GMB1', 'GMB1', 'GMB1', 'GMB1', 'GMB1', 'GMB1', 'GMB1', 'GMB1', 'GMB1', 'GMB1', 'GMB1', 'GMB1', 'GMB1', 'GMB1', 'GMB1', 'GMB1', 'GMB1', 'GMB1', 'GMB1', 'GMB1', 'GMB1', 'GMB1', 'GMB1', 'GMB1', 'GMB1', 'GMB1', 'GMB1', 'GMB1', 'GMB1', 'GMB1', 'GMB1', 'GMB1', 'GMB1', 'GMB1', 'GMB1', 'GMB1', 'GMB1', 'GMB1', 'GMB1', 'GMB1', 'GMB1', 'GMB1', 'GMB1', 'GMB1', 'GMB1', 'GMB1', 'GMB1', 'GMB1', 'GMB1', 'GMB1', 'GMB1', 'GMB1', 'GMB1', 'GMB1', 'GMB1', 'GMB1', 'GMB1', 'GMB1', 'GMB1', 'GMB1', 'GMB1', 'GMB1', 'GMB1', 'GMB1', 'GMB1', 'GMB1', 'GMB1', 'GMB1', 'GMB1', 'GMB1', 'GMB1', 'GMB1', 'GMB1', 'GMB1', 'GMB1', 'GMB1', 'GMB1', 'GMB1', 'GMB1', 'GMB1', 'GMB1', 'GMB1', 'GMB1', 'GMB1', 'GMB1', 'GMB1', 'GMB1', 'GMB1', 'GMB1', 'GMB1', 'GMB1', 'GMB1', 'GMB1', 'GMB1', 'GMB1', 'GMB1', 'GMB1', 'GMB1', 'GMB1', 'GMB1', 'GMB1', 'GMB1', 'GMB1', 'GMB1', 'GMB1', 'GMB1', 'GMB1', 'GMB1', 'GMB1', 'GMB1', 'GMB1', 'GMB1', 'GMB1', 'GMB1', 'GMB1', 'GMB1', 'GMB1', 'GMB1', 'GMB1', 'GMB1', 'GMB1', 'GMB1', 'GMB1', 'GMB1', 'GMB1', 'GMB1', 'GMB1', 'GMB1', 'GMB1', 'GMB1', 'GMB1', 'GMB1', 'GMB1', 'GMB1', 'GMB1', 'GMB1', 'GMB1', 'GMB1', 'GMB1', 'GMB1', 'GMB1', 'GMB1', 'GMB1', 'GMB1', 'GMB1', 'GMB1', 'GMB1', 'GMB1', 'GMB1', 'GMB1', 'GMB1', 'GMB1', 'GMB1', 'GMB1', 'GMB1', 'GMB1', 'GMB1', 'GMB1', 'GMB1', 'GMB1', 'GMB1', 'GMB1', 'GMB1', 'GMB1', 'GMB1', 'GMB1', 'GMB1', 'GMB1', 'GMB1', 'GMB1', 'GMB1', 'GMB1', 'GMB1', 'GMB1', 'GMB1', 'GMB1', 'GMB1', 'GMB1', 'GMB1', 'GMB1', 'GMB1', 'GMB1', 'GMB1', 'GMB1', 'GMB1', 'GMB1', 'GMB1', 'GMB1', 'GMB1', 'GMB1', 'GMB1', 'GMB1', 'GMB2', 'GMB2', 'GMB2', 'GMB2', 'GMB2', 'GMB2', 'GMB2', 'GMB2', 'GMB2', 'GMB2', 'GMB2', 'GMB2', 'GMB2', 'GMB2', 'GMB2', 'GMB2', 'GMB2', 'GMB2', 'GMB2', 'GMB2', 'GMB2', 'GMB2', 'GMB2', 'GMB2', 'GMB2', 'GMB2', 'GMB2', 'GMB2', 'GMB2', 'GMB2', 'GMB2', 'GMB2', 'GMB2', 'GMB2', 'GMB2', 'GMB2', 'GMB2', 'GMB2', 'GMB2', 'GMB2', 'GMB2', 'GMB2', 'GMB2', 'GMB2', 'GMB2', 'GMB2', 'GMB2', 'GMB2', 'GMB2', 'GMB2', 'GMB2', 'GMB2', 'GMB2', 'GMB2', 'GMB2', 'GMB2', 'GMB2', 'GMB2', 'GMB2', 'GMB2', 'GMB2', 'GMB2', 'GMB2', 'GMB2', 'GMB2', 'GMB2', 'GMB2', 'GMB2', 'GMB2', 'GMB2', 'GMB2', 'GMB2', 'GMB2', 'GMB2', 'GMB2', 'GMB2', 'GMB2', 'GMB2', 'GMB2', 'GMB2', 'GMB2', 'GMB2', 'GMB2', 'GMB2', 'GMB2', 'GMB2', 'GMB2', 'GMB2', 'GMB2', 'GMB2', 'GMB2', 'GMB2', 'GMB2', 'GMB2', 'GMB2', 'GMB2', 'GMB2', 'GMB2', 'GMB2', 'GMB2', 'GMB2', 'GMB2', 'GMB2', 'GMB2', 'GMB2', 'GMB2', 'GMB2', 'GMB2', 'GMB2', 'GMB2', 'GMB2', 'GMB2', 'GMB2', 'GMB2', 'GMB2', 'GMB2', 'GMB2', 'GMB2', 'GMB2', 'GMB2', 'GMB2', 'GMB2', 'GMB2', 'GMB2', 'GMB2', 'GMB2', 'GMB2', 'GMB2', 'GMB2', 'GMB2', 'GMB2', 'GMB2', 'GMB2', 'GMB2', 'GMB2', 'GMB2', 'GMB2', 'GMB2', 'GMB2', 'GMB2', 'GMB2', 'GMB2', 'GMB2', 'GMB2', 'GMB2', 'GMB2', 'GMB2', 'GMB2', 'GMB2', 'GMB2', 'GMB2', 'GMB2', 'GMB2', 'GMB2', 'GMB2', 'GMB2', 'GMB2', 'GMB2', 'GMB2', 'GMB2', 'GMB2', 'GMB2', 'GMB2', 'GMB2', 'GMB2', 'GMB2', 'GMB2', 'GMB2', 'GMB2', 'GMB2', 'GMB2', 'GMB2', 'GMB2', 'GMB2', 'GMB2', 'GMB2', 'GMB2', 'GMB2', 'GMB2', 'GMB2', 'GMB2', 'GMB2', 'GMB2', 'GMB2', 'GMB2', 'GMB2', 'GMB2', 'GMB2', 'GMB2', 'GMB2', 'GMB2', 'GMB2', 'GMB2', 'GMB2', 'GMB2', 'GMB2', 'GMB2', 'GMB2', 'GMB2', 'GMB2', 'GMB2', 'GMB2', 'GMB2', 'GMB2', 'GMB2', 'GMB2', 'GMB2', 'GMB2', 'GMB2', 'GMB2', 'GMB2', 'GMB2', 'GMB2', 'GMB2', 'GMB2', 'GMB2', 'GMB2', 'GMB2', 'GMB2', 'GMB2', 'GMB2', 'GMB2', 'GMB2', 'GMB2', 'GMB2', 'GMB2', 'GMB2', 'GMB2', 'GMB2', 'GMB2', 'GMB2', 'GMB2', 'GMB2', 'GMB2', 'GMB2', 'GMB2', 'GMB2', 'GMB2', 'GMB2', 'GMB2', 'GMB2', 'GMB2', 'GMB2', 'GMB2', 'GMB2', 'GMB2', 'GMB2', 'GMB2', 'GMB2', 'GMB2', 'GMB2', 'GMB2', 'GMB2', 'GMB2', 'GMB2', 'GMB2', 'GMB2', 'GMB2', 'GMB2', 'GMB2', 'GMB2', 'GMB2', 'GMB2', 'GMB2', 'GMB2', 'GMB2', 'GMB2', 'GMB2', 'GMB2', 'GMB2', 'GMB2', 'GMB2', 'GMB2', 'GMB2', 'GMB2', 'GMB2', 'GMB2', 'GMB2', 'GMB2', 'GMB2', 'GMB2', 'GMB2', 'GMB2', 'GMB2', 'GMB2', 'GMB2', 'GMB2', 'GMB2', 'GMB2', 'GMB2', 'GMB2', 'GMB2', 'GMB2', 'GMB2', 'GMB2', 'GMB2', 'GMB2', 'GMB2', 'GMB2', 'GMB2', 'GMB2', 'GMB2', 'GMB2', 'GMB2', 'GMB2', 'GMB2', 'GMB2', 'GMB2', 'GMB2', 'GMB2', 'GMB2', 'GMB2', 'GMB2', 'GMB2', 'GMB2', 'GMB2', 'GMB2', 'GMB2', 'GMB2', 'GMB2', 'GMB2', 'GMB2', 'GMB2', 'GMB2', 'GMB2', 'GMB2', 'GMB2', 'GMB2', 'GMB2', 'GMB2', 'GMB2', 'GMB2', 'GMB2', 'GMB2', 'GMB2', 'GMB2', 'GMB2', 'GMB2', 'GMB2', 'GMB2', 'GMB2', 'GMB2', 'GMB2', 'GMB2', 'GMB2', 'GMB2', 'GMB2', 'GMB2', 'GMB2', 'GMB2', 'GMB2', 'GMB2', 'GMB2', 'GMB2', 'GMB2', 'GMB2', 'GMB2', 'GMB2', 'GMB2', 'GMB2', 'GMB2', 'GMB2', 'GMB2', 'GMB2', 'GMB2', 'GMB2', 'GMB2', 'GMB2', 'GMB2', 'GMB2', 'GMB2', 'GMB2', 'GMB2', 'GMB2', 'GMB2', 'GMB2', 'GMB2', 'GMB2', 'GMB2', 'GMB2', 'GMB2', 'GMB2', 'GMB2', 'GMB2', 'GMB2', 'GMB2', 'GMB2', 'GMB2', 'GMB2', 'GMB2', 'GMB2', 'GMB2', 'GMB2', 'GMB2', 'GMB2', 'GMB2', 'GMB2', 'GMB2', 'GMB2', 'GMB2', 'GMB3', 'GMB3', 'GMB3', 'GMB3', 'GMB3', 'GMB3', 'GMB3', 'GMB3', 'GMB3', 'GMB3', 'GMB3', 'GMB3', 'GMB3', 'GMB3', 'GMB3', 'GMB3', 'GMB3', 'GMB3', 'GMB3', 'GMB3', 'GMB3', 'GMB3', 'GMB3', 'GMB3', 'GMB3', 'GMB3', 'GMB3', 'GMB3', 'GMB3', 'GMB3', 'GMB3', 'GMB3', 'GMB3', 'GMB3', 'GMB3', 'GMB3', 'GMB3', 'GMB3', 'GMB3', 'GMB3', 'GMB3', 'GMB3', 'GMB3', 'GMB3', 'GMB3', 'GMB3', 'GMB3', 'GMB3', 'GMB3', 'GMB3', 'GMB3', 'GMB3', 'GMB3', 'GMB3', 'GMB3', 'GMB3', 'GMB3', 'GMB3', 'GMB3', 'GMB3', 'GMB3', 'GMB3', 'GMB3', 'GMB3', 'GMB3', 'GMB3', 'GMB3', 'GMB3', 'GMB3', 'GMB3', 'GMB3', 'GMB3', 'GMB3', 'GMB3', 'GMB3', 'GMB3', 'GMB3', 'GMB3', 'GMB3', 'GMB3', 'GMB3', 'GMB3', 'GMB3', 'GMB3', 'GMB3', 'GMB3', 'GMB3', 'GMB3', 'GMB3', 'GMB3', 'GMB3', 'GMB3', 'GMB3', 'GMB3', 'GMB3', 'GMB3', 'GMB3', 'GMB3', 'GMB3', 'GMB3', 'GMB3', 'GMB3', 'GMB3', 'GMB3', 'GMB3', 'GMB3', 'GMB3', 'GMB3', 'GMB3', 'GMB3', 'GMB3', 'GMB3', 'GMB3', 'GMB3', 'GMB3', 'GMB3', 'GMB3', 'GMB3', 'GMB3', 'GMB3', 'GMB3', 'GMB3', 'GMB3', 'GMB3', 'GMB3', 'GMB3', 'GMB3', 'GMB3', 'GMB3', 'GMB3', 'GMB3', 'GMB3', 'GMB3', 'GMB3', 'GMB3', 'GMB3', 'GMB3', 'GMB3', 'GMB3', 'GMB3', 'GMB3', 'GMB3', 'GMB3', 'GMB3', 'GMB3', 'GMB3', 'GMB3', 'GMB3', 'GMB3', 'GMB3', 'GMB3', 'GMB3', 'GMB3', 'GMB3', 'GMB3', 'GMB3', 'GMB3', 'GMB3', 'GMB3', 'GMB3', 'GMB3', 'GMB3', 'GMB3', 'GMB3', 'GMB3', 'GMB3', 'GMB3', 'GMB3', 'GMB3', 'GMB3', 'GMB3', 'GMB3', 'GMB3', 'GMB3', 'GMB3', 'GMB3', 'GMB3', 'GMB3', 'GMB3', 'GMB3', 'GMB3', 'GMB3', 'GMB3', 'GMB3', 'GMB3', 'GMB3', 'GMB3', 'GMB3', 'GMB3', 'GMB3', 'GMB3', 'GMB3', 'GMB3', 'GMB3', 'GMB3', 'GMB3', 'GMB3', 'GMB3', 'GMB3', 'GMB3', 'GMB3', 'GMB3', 'GMB3', 'GMB3', 'GMB3', 'GMB3', 'GMB3', 'GMB3', 'GMB3', 'GMB3', 'GMB3', 'GMB3', 'GMB3', 'GMB3', 'GMB3', 'GMB3', 'GMB3', 'GMB3', 'GMB3', 'GMB3', 'GMB3', 'GMB3', 'GMB3', 'GMB3', 'GMB3', 'GMB3', 'GMB3', 'GMB3', 'GMB3', 'GMB3', 'GMB3', 'GMB3', 'GMB3', 'GMB3', 'GMB3', 'GMB3', 'GMB3', 'GMB3', 'GMB3', 'GMB3', 'GMB3', 'GMB3', 'GMB3', 'GMB3', 'GMB3', 'GMB3', 'GMB3', 'GMB3', 'GMB3', 'GMB3', 'GMB3', 'GMB3', 'GMB3', 'GMB3', 'GMB3', 'GMB3', 'GMB3', 'GMB3', 'GMB3', 'GMB3', 'GMB3', 'GMB3', 'GMB3', 'GMB3', 'GMB3', 'GMB3', 'GMB3', 'GMB3', 'GMB3', 'GMB3', 'GMB3', 'GMB3', 'GMB3', 'GMB3', 'GMB3', 'GMB3', 'GMB3', 'GMB3', 'GMB3', 'GMB3', 'GMB3', 'GMB3', 'GMB3', 'GMB3', 'GMB3', 'GMB3', 'GMB3', 'GMB3', 'GMB3', 'GMB3', 'GMB3', 'GMB3', 'GMB3', 'GMB3', 'GMB3', 'GMB3', 'GMB3', 'GMB3', 'GMB3', 'GMB3', 'GMB3', 'GMB3', 'GMB3', 'GMB3', 'GMB3', 'GMB3', 'GMB3', 'GMB3', 'GMB3', 'GMB3', 'GMB3', 'GMB3', 'GMB3', 'GMB3', 'GMB3', 'GMB3', 'GMB3', 'GMB3', 'GMB3', 'GMB3', 'GMB3', 'GMB3', 'GMB3', 'GMB3', 'GMB3', 'GMB3', 'GMB3', 'GMB3', 'GMB3', 'GMB3', 'GMB3', 'GMB3', 'GMB3', 'GMB3', 'GMB3', 'GMB3', 'GMB3', 'GMB3', 'GMB3', 'GMB3', 'GMB3', 'GMB3', 'GMB3', 'GMB3', 'GMB3', 'GMB3', 'GMB3', 'GMB3', 'GMB3', 'GMB3', 'GMB3', 'GMB3', 'GMB3', 'GMB3', 'GMB3', 'GMB3', 'GMB3', 'GMB3', 'GMB3', 'GMB3', 'GMB3', 'GMB3', 'GMB3', 'GMB3', 'GMB3', 'GMB3', 'GMB3', 'GMB3', 'GMB3', 'GMB3', 'GMB3', 'GMB3', 'GMB3', 'GMB3', 'GMB3', 'GMB3', 'GMB3', 'GMB3', 'GMB3', 'GMB3', 'GMB3', 'GMB3', 'GMB3', 'GMB3', 'GMB3', 'GMB3', 'GMB3', 'GMB3', 'GMB3', 'GMB3', 'GMB3', 'GMB3', 'GMB3', 'GMB3', 'GMB3', 'GMB3', 'GMB3', 'GMB3', 'GMB3', 'GMB3', 'GMB4', 'GMB4', 'GMB4', 'GMB4', 'GMB4', 'GMB4', 'GMB4', 'GMB4', 'GMB4', 'GMB4', 'GMB4', 'GMB4', 'GMB4', 'GMB4', 'GMB4', 'GMB4', 'GMB4', 'GMB4', 'GMB4', 'GMB4', 'GMB4', 'GMB4', 'GMB4', 'GMB4', 'GMB4', 'GMB4', 'GMB4', 'GMB4', 'GMB4', 'GMB4', 'GMB4', 'GMB4', 'GMB4', 'GMB4', 'GMB4', 'GMB4', 'GMB4', 'GMB4', 'GMB4', 'GMB4', 'GMB4', 'GMB4', 'GMB4', 'GMB4', 'GMB4', 'GMB4', 'GMB4', 'GMB4', 'GMB4', 'GMB4', 'GMB4', 'GMB4', 'GMB4', 'GMB4', 'GMB4', 'GMB4', 'GMB4', 'GMB4', 'GMB4', 'GMB4', 'GMB4', 'GMB4', 'GMB4', 'GMB4', 'GMB4', 'GMB4', 'GMB4', 'GMB4', 'GMB4', 'GMB4', 'GMB4', 'GMB4', 'GMB4', 'GMB4', 'GMB4', 'GMB4', 'GMB4', 'GMB4', 'GMB4', 'GMB4', 'GMB4', 'GMB4', 'GMB4', 'GMB4', 'GMB4', 'GMB4', 'GMB4', 'GMB4', 'GMB4', 'GMB4', 'GMB4', 'GMB4', 'GMB4', 'GMB4', 'GMB4', 'GMB4', 'GMB4', 'GMB4', 'GMB4', 'GMB4', 'GMB4', 'GMB4', 'GMB4', 'GMB4', 'GMB4', 'GMB4', 'GMB4', 'GMB4', 'GMB4', 'GMB4', 'GMB4', 'GMB4', 'GMB4', 'GMB4', 'GMB4', 'GMB4', 'GMB4', 'GMB4', 'GMB4', 'GMB4', 'GMB4', 'GMB4', 'GMB4', 'GMB4', 'GMB4', 'GMB4', 'GMB4', 'GMB4', 'GMB4', 'GMB4', 'GMB4', 'GMB4', 'GMB4', 'GMB4', 'GMB4', 'GMB4', 'GMB4', 'GMB4', 'GMB4', 'GMB4', 'GMB4', 'GMB4', 'GMB4', 'GMB4', 'GMB4', 'GMB4', 'GMB4', 'GMB4', 'GMB4', 'GMB4', 'GMB4', 'GMB4', 'GMB4', 'GMB4', 'GMB4', 'GMB4', 'GMB4', 'GMB4', 'GMB4', 'GMB4', 'GMB4', 'GMB4', 'GMB4', 'GMB4', 'GMB4', 'GMB4', 'GMB4', 'GMB4', 'GMB4', 'GMB4', 'GMB4', 'GMB4', 'GMB4', 'GMB4', 'GMB4', 'GMB4', 'GMB4', 'GMB4', 'GMB4', 'GMB4', 'GMB4', 'GMB4', 'GMB4', 'GMB4', 'GMB4', 'GMB4', 'GMB4', 'GMB4', 'GMB4', 'GMB4', 'GMB4', 'GMB4', 'GMB4', 'GMB4', 'GMB4', 'GMB4', 'GMB4', 'GMB4', 'GMB4', 'GMB4', 'GMB4', 'GMB4', 'GMB4', 'GMB4', 'GMB4', 'GMB4', 'GMB4', 'GMB4', 'GMB4', 'GMB4', 'GMB4', 'GMB4', 'GMB4', 'GMB4', 'GMB4', 'GMB4', 'GMB4', 'GMB4', 'GMB4', 'GMB4', 'GMB4', 'GMB4', 'GMB4', 'GMB4', 'GMB4', 'GMB4', 'GMB4', 'GMB4', 'GMB4', 'GMB4', 'GMB4', 'GMB4', 'GMB4', 'GMB4', 'GMB4', 'GMB4', 'GMB4', 'GMB4', 'GMB4', 'GMB4', 'GMB4', 'GMB4', 'GMB4', 'GMB4', 'GMB4', 'GMB4', 'GMB4', 'GMB4', 'GMB4', 'GMB4', 'GMB4', 'GMB4', 'GMB4', 'GMB4', 'GMB4', 'GMB4', 'GMB4', 'GMB4', 'GMB4', 'GMB4', 'GMB4', 'GMB4', 'GMB4', 'GMB4', 'GMB4', 'GMB4', 'GMB4', 'GMB4', 'GMB4', 'GMB4', 'GMB4', 'GMB4', 'GMB4', 'GMB4', 'GMB4', 'GMB4', 'GMB4', 'GMB4', 'GMB4', 'GMB4', 'GMB4', 'GMB4', 'GMB4', 'GMB4', 'GMB4', 'GMB4', 'GMB4', 'GMB4', 'GMB4', 'GMB4', 'GMB4', 'GMB4', 'GMB4', 'GMB4', 'GMB4', 'GMB4', 'GMB4', 'GMB4', 'GMB4', 'GMB4', 'GMB4', 'GMB4', 'GMB4', 'GMB4', 'GMB4', 'GMB4', 'GMB4', 'GMB4', 'GMB4', 'GMB4', 'GMB4', 'GMB4', 'GMB4', 'GMB4', 'GMB4', 'GMB4', 'GMB4', 'GMB4', 'GMB4', 'GMB4', 'GMB4', 'GMB4', 'GMB4', 'GMB4', 'GMB4', 'GMB4', 'GMB4', 'GMB4', 'GMB4', 'GMB4', 'GMB4', 'GMB4', 'GMB4', 'GMB4', 'GMB4', 'GMB4', 'GMB4', 'GMB4', 'GMB4', 'GMB4', 'GMB4', 'GMB4', 'GMB4', 'GMB4', 'GMB4', 'GMB4', 'GMB4', 'GMB4', 'GMB4', 'GMB4', 'GMB4', 'GMB4', 'GMB4', 'GMB4', 'GMB4', 'GMB4', 'GMB4', 'GMB4', 'GMB4', 'GMB4', 'GMB4', 'GMB4', 'GMB4', 'GMB4', 'GMB4', 'GMB4', 'GMB4', 'GMB4', 'GMB4', 'GMB4', 'GMB4', 'GMB4', 'GMB4', 'GMB4', 'GMB4', 'GMB4', 'GMB4', 'GMB4', 'GMB4', 'GMB4', 'GMB4', 'GMB4', 'GMB4', 'GMB4', 'GMB4', 'GMB4', 'GMB4', 'GMB4', 'GMB4', 'GMB4', 'GMB4', 'GMB4', 'GMB4', 'GMB4', 'GMB4', 'GMB4', 'GMB4', 'GMB4', 'GMB4', 'GMB4', 'GMB5', 'GMB5', 'GMB5', 'GMB5', 'GMB5', 'GMB5', 'GMB5', 'GMB5', 'GMB5', 'GMB5', 'GMB5', 'GMB5', 'GMB5', 'GMB5', 'GMB5', 'GMB5', 'GMB5', 'GMB5', 'GMB5', 'GMB5', 'GMB5', 'GMB5', 'GMB5', 'GMB5', 'GMB5', 'GMB5', 'GMB5', 'GMB5', 'GMB5', 'GMB5', 'GMB5', 'GMB5', 'GMB5', 'GMB5', 'GMB5', 'GMB5', 'GMB5', 'GMB5', 'GMB5', 'GMB5', 'GMB5', 'GMB5', 'GMB5', 'GMB5', 'GMB5', 'GMB5', 'GMB5', 'GMB5', 'GMB5', 'GMB5', 'GMB5', 'GMB5', 'GMB5', 'GMB5', 'GMB5', 'GMB5', 'GMB5', 'GMB5', 'GMB5', 'GMB5', 'GMB5', 'GMB5', 'GMB5', 'GMB5', 'GMB5', 'GMB5', 'GMB5', 'GMB5', 'GMB5', 'GMB5', 'GMB5', 'GMB5', 'GMB5', 'GMB5', 'GMB5', 'GMB5', 'GMB5', 'GMB5', 'GMB5', 'GMB5', 'GMB5', 'GMB5', 'GMB5', 'GMB5', 'GMB5', 'GMB5', 'GMB5', 'GMB5', 'GMB5', 'GMB5', 'GMB5', 'GMB5', 'GMB5', 'GMB5', 'GMB5', 'GMB5', 'GMB5', 'GMB5', 'GMB5', 'GMB5', 'GMB5', 'GMB5', 'GMB5', 'GMB5', 'GMB5', 'GMB5', 'GMB5', 'GMB5', 'GMB5', 'GMB5', 'GMB5', 'GMB5', 'GMB5', 'GMB5', 'GMB5', 'GMB5', 'GMB5', 'GMB5', 'GMB5', 'GMB5', 'GMB5', 'GMB5', 'GMB5', 'GMB5', 'GMB5', 'GMB5', 'GMB5', 'GMB5', 'GMB5', 'GMB5', 'GMB5', 'GMB5', 'GMB5', 'GMB5', 'GMB5', 'GMB5', 'GMB5', 'GMB5', 'GMB5', 'GMB5', 'GMB5', 'GMB5', 'GMB5', 'GMB5', 'GMB5', 'GMB5', 'GMB5', 'GMB5', 'GMB5', 'GMB5', 'GMB5', 'GMB5', 'GMB5', 'GMB5', 'GMB5', 'GMB5', 'GMB5', 'GMB5', 'GMB5', 'GMB5', 'GMB5', 'GMB5', 'GMB5', 'GMB5', 'GMB5', 'GMB5', 'GMB5', 'GMB5', 'GMB5', 'GMB5', 'GMB5', 'GMB5', 'GMB5', 'GMB5', 'GMB5', 'GMB5', 'GMB5', 'GMB5', 'GMB5', 'GMB5', 'GMB5', 'GMB5', 'GMB5', 'GMB5', 'GMB5', 'GMB5', 'GMB5', 'GMB5', 'GMB5', 'GMB5', 'GMB5', 'GMB5', 'GMB5', 'GMB5', 'GMB5', 'GMB5', 'GMB5', 'GMB5', 'GMB5', 'GMB5', 'GMB5', 'GMB5', 'GMB5', 'GMB5', 'GMB5', 'GMB5', 'GMB5', 'GMB5', 'GMB5', 'GMB5', 'GMB5', 'GMB5', 'GMB5', 'GMB5', 'GMB5', 'GMB5', 'GMB5', 'GMB5', 'GMB5', 'GMB5', 'GMB5', 'GMB5', 'GMB5', 'GMB5', 'GMB5', 'GMB5', 'GMB5', 'GMB5', 'GMB5', 'GMB5', 'GMB5', 'GMB5', 'GMB5', 'GMB5', 'GMB5', 'GMB5', 'GMB5', 'GMB5', 'GMB5', 'GMB5', 'GMB5', 'GMB5', 'GMB5', 'GMB5', 'GMB5', 'GMB5', 'GMB5', 'GMB5', 'GMB5', 'GMB5', 'GMB5', 'GMB5', 'GMB5', 'GMB5', 'GMB5', 'GMB5', 'GMB5', 'GMB5', 'GMB5', 'GMB5', 'GMB5', 'GMB5', 'GMB5', 'GMB5', 'GMB5', 'GMB5', 'GMB5', 'GMB5', 'GMB5', 'GMB5', 'GMB5', 'GMB5', 'GMB5', 'GMB5', 'GMB5', 'GMB5', 'GMB5', 'GMB5', 'GMB5', 'GMB5', 'GMB5', 'GMB5', 'GMB5', 'GMB5', 'GMB5', 'GMB5', 'GMB5', 'GMB5', 'GMB5', 'GMB5', 'GMB5', 'GMB5', 'GMB5', 'GMB5', 'GMB5', 'GMB5', 'GMB5', 'GMB5', 'GMB5', 'GMB5', 'GMB5', 'GMB5', 'GMB5', 'GMB5', 'GMB5', 'GMB5', 'GMB5', 'GMB5', 'GMB5', 'GMB5', 'GMB5', 'GMB5', 'GMB5', 'GMB5', 'GMB5', 'GMB5', 'GMB5', 'GMB5', 'GMB5', 'GMB5', 'GMB5', 'GMB5', 'GMB5', 'GMB5', 'GMB5', 'GMB5', 'GMB5', 'GMB5', 'GMB5', 'GMB5', 'GMB5', 'GMB5', 'GMB5', 'GMB5', 'GMB5', 'GMB5', 'GMB5', 'GMB5', 'GMB5', 'GMB5', 'GMB5', 'GMB5', 'GMB5', 'GMB5', 'GMB5', 'GMB5', 'GMB5', 'GMB5', 'GMB5', 'GMB5', 'GMB5', 'GMB5', 'GMB5', 'GMB5', 'GMB5', 'GMB5', 'GMB5', 'GMB5', 'GMB5', 'GMB5', 'GMB5', 'GMB5', 'GMB5', 'GMB5', 'GMB5', 'GMB5', 'GMB5', 'GMB5', 'GMB5', 'GMB5', 'GMB5', 'GMB5', 'GMB5', 'GMB5', 'GMB5', 'GMB5', 'GMB5', 'GMB5', 'GMB5', 'GMB5', 'GMB5', 'GMB5', 'GMB5', 'GMB5', 'GMB5', 'GMB5', 'GMB5', 'GMB5', 'GMB5', 'GMB5', 'GMB5', 'GMB5', 'GMB5', 'GMB5', 'GMB5', 'GMB5', 'GMB5', 'GMB5', 'GMB5', 'GMB5', 'GMB6', 'GMB6', 'GMB6', 'GMB6', 'GMB6', 'GMB6', 'GMB6', 'GMB6', 'GMB6', 'GMB6', 'GMB6', 'GMB6', 'GMB6', 'GMB6', 'GMB6', 'GMB6', 'GMB6', 'GMB6', 'GMB6', 'GMB6', 'GMB6', 'GMB6', 'GMB6', 'GMB6', 'GMB6', 'GMB6', 'GMB6', 'GMB6', 'GMB6', 'GMB6', 'GMB6', 'GMB6', 'GMB6', 'GMB6', 'GMB6', 'GMB6', 'GMB6', 'GMB6', 'GMB6', 'GMB6', 'GMB6', 'GMB6', 'GMB6', 'GMB6', 'GMB6', 'GMB6', 'GMB6', 'GMB6', 'GMB6', 'GMB6', 'GMB6', 'GMB6', 'GMB6', 'GMB6', 'GMB6', 'GMB6', 'GMB6', 'GMB6', 'GMB6', 'GMB6', 'GMB6', 'GMB6', 'GMB6', 'GMB6', 'GMB6', 'GMB6', 'GMB6', 'GMB6', 'GMB6', 'GMB6', 'GMB6', 'GMB6', 'GMB6', 'GMB6', 'GMB6', 'GMB6', 'GMB6', 'GMB6', 'GMB6', 'GMB6', 'GMB6', 'GMB6', 'GMB6', 'GMB6', 'GMB6', 'GMB6', 'GMB6', 'GMB6', 'GMB6', 'GMB6', 'GMB6', 'GMB6', 'GMB6', 'GMB6', 'GMB6', 'GMB6', 'GMB6', 'GMB6', 'GMB6', 'GMB6', 'GMB6', 'GMB6', 'GMB6', 'GMB6', 'GMB6', 'GMB6', 'GMB6', 'GMB6', 'GMB6', 'GMB6', 'GMB6', 'GMB6', 'GMB6', 'GMB6', 'GMB6', 'GMB6', 'GMB6', 'GMB6', 'GMB6', 'GMB6', 'GMB6', 'GMB6', 'GMB6', 'GMB6', 'GMB6', 'GMB6', 'GMB6', 'GMB6', 'GMB6', 'GMB6', 'GMB6', 'GMB6', 'GMB6', 'GMB6', 'GMB6', 'GMB6', 'GMB6', 'GMB6', 'GMB6', 'GMB6', 'GMB6', 'GMB6', 'GMB6', 'GMB6', 'GMB6', 'GMB6', 'GMB6', 'GMB6', 'GMB6', 'GMB6', 'GMB6', 'GMB6', 'GMB6', 'GMB6', 'GMB6', 'GMB6', 'GMB6', 'GMB6', 'GMB6', 'GMB6', 'GMB6', 'GMB6', 'GMB6', 'GMB6', 'GMB6', 'GMB6', 'GMB6', 'GMB6', 'GMB6', 'GMB6', 'GMB6', 'GMB6', 'GMB6', 'GMB6', 'GMB6', 'GMB6', 'GMB6', 'GMB6', 'GMB6', 'GMB6', 'GMB6', 'GMB6', 'GMB6', 'GMB6', 'GMB6', 'GMB6', 'GMB6', 'GMB6', 'GMB6', 'GMB6', 'GMB6', 'GMB6', 'GMB6', 'GMB6', 'GMB6', 'GMB6', 'GMB6', 'GMB6', 'GMB6', 'GMB6', 'GMB6', 'GMB6', 'GMB6', 'GMB6', 'GMB6', 'GMB6', 'GMB6', 'GMB6', 'GMB6', 'GMB6', 'GMB6', 'GMB6', 'GMB6', 'GMB6', 'GMB6', 'GMB6', 'GMB6', 'GMB6', 'GMB6', 'GMB6', 'GMB6', 'GMB6', 'GMB6', 'GMB6', 'GMB6', 'GMB6', 'GMB6', 'GMB6', 'GMB6', 'GMB6', 'GMB6', 'GMB6', 'GMB6', 'GMB6', 'GMB6', 'GMB6', 'GMB6', 'GMB6', 'GMB6', 'GMB6', 'GMB6', 'GMB6', 'GMB6', 'GMB6', 'GMB6', 'GMB6', 'GMB6', 'GMB6', 'GMB6', 'GMB6', 'GMB6', 'GMB6', 'GMB6', 'GMB6', 'GMB6', 'GMB6', 'GMB6', 'GMB6', 'GMB6', 'GMB6', 'GMB6', 'GMB6', 'GMB6', 'GMB6', 'GMB6', 'GMB6', 'GMB6', 'GMB6', 'GMB6', 'GMB6', 'GMB6', 'GMB6', 'GMB6', 'GMB6', 'GMB6', 'GMB6', 'GMB6', 'GMB6', 'GMB6', 'GMB6', 'GMB6', 'GMB6', 'GMB6', 'GMB6', 'GMB6', 'GMB6', 'GMB6', 'GMB6', 'GMB6', 'GMB6', 'GMB6', 'GMB6', 'GMB6', 'GMB6', 'GMB6', 'GMB6', 'GMB6', 'GMB6', 'GMB6', 'GMB6', 'GMB6', 'GMB6', 'GMB6', 'GMB6', 'GMB6', 'GMB6', 'GMB6', 'GMB6', 'GMB6', 'GMB6', 'GMB6', 'GMB6', 'GMB6', 'GMB6', 'GMB6', 'GMB6', 'GMB6', 'GMB6', 'GMB6', 'GMB6', 'GMB6', 'GMB6', 'GMB6', 'GMB6', 'GMB6', 'GMB6', 'GMB6', 'GMB6', 'GMB6', 'GMB6', 'GMB6', 'GMB6', 'GMB6', 'GMB6', 'GMB6', 'GMB6', 'GMB6', 'GMB6', 'GMB6', 'GMB6', 'GMB6', 'GMB6', 'GMB6', 'GMB6', 'GMB6', 'GMB6', 'GMB6', 'GMB6', 'GMB6', 'GMB6', 'GMB6', 'GMB6', 'GMB6', 'GMB6', 'GMB6', 'GMB6', 'GMB6', 'GMB6', 'GMB6', 'GMB6', 'GMB6', 'GMB6', 'GMB6', 'GMB6', 'GMB6', 'GMB6', 'GMB6', 'GMB6', 'GMB6', 'GMB6', 'GMB6', 'GMB6', 'GMB6', 'GMB6', 'GMB6', 'GMB6', 'GMB6', 'GMB6', 'GMB6', 'GMB6', 'GMB6', 'GMB6', 'GMB6', 'GMB6', 'GMB6', 'GMB6', 'GMB6', 'GMB6', 'GMB6', 'GMB6', 'GMB6', 'GMB6', 'GMB6', 'GMB6', 'GMB6', 'GMB6', 'GMB6', 'GMB6', 'GMB6', 'GMB6', 'GMB7', 'GMB7', 'GMB7', 'GMB7', 'GMB7', 'GMB7', 'GMB7', 'GMB7', 'GMB7', 'GMB7', 'GMB7', 'GMB7', 'GMB7', 'GMB7', 'GMB7', 'GMB7', 'GMB7', 'GMB7', 'GMB7', 'GMB7', 'GMB7', 'GMB7', 'GMB7', 'GMB7', 'GMB7', 'GMB7', 'GMB7', 'GMB7', 'GMB7', 'GMB7', 'GMB7', 'GMB7', 'GMB7', 'GMB7', 'GMB7', 'GMB7', 'GMB7', 'GMB7', 'GMB7', 'GMB7', 'GMB7', 'GMB7', 'GMB7', 'GMB7', 'GMB7', 'GMB7', 'GMB7', 'GMB7', 'GMB7', 'GMB7', 'GMB7', 'GMB7', 'GMB7', 'GMB7', 'GMB7', 'GMB7', 'GMB7', 'GMB7', 'GMB7', 'GMB7', 'GMB7', 'GMB7', 'GMB7', 'GMB7', 'GMB7', 'GMB7', 'GMB7', 'GMB7', 'GMB7', 'GMB7', 'GMB7', 'GMB7', 'GMB7', 'GMB7', 'GMB7', 'GMB7', 'GMB7', 'GMB7', 'GMB7', 'GMB7', 'GMB7', 'GMB7', 'GMB7', 'GMB7', 'GMB7', 'GMB7', 'GMB7', 'GMB7', 'GMB7', 'GMB7', 'GMB7', 'GMB7', 'GMB7', 'GMB7', 'GMB7', 'GMB7', 'GMB7', 'GMB7', 'GMB7', 'GMB7', 'GMB7', 'GMB7', 'GMB7', 'GMB7', 'GMB7', 'GMB7', 'GMB7', 'GMB7', 'GMB7', 'GMB7', 'GMB7', 'GMB7', 'GMB7', 'GMB7', 'GMB7', 'GMB7', 'GMB7', 'GMB7', 'GMB7', 'GMB7', 'GMB7', 'GMB7', 'GMB7', 'GMB7', 'GMB7', 'GMB7', 'GMB7', 'GMB7', 'GMB7', 'GMB7', 'GMB7', 'GMB7', 'GMB7', 'GMB7', 'GMB7', 'GMB7', 'GMB7', 'GMB7', 'GMB7', 'GMB7', 'GMB7', 'GMB7', 'GMB7', 'GMB7', 'GMB7', 'GMB7', 'GMB7', 'GMB7', 'GMB7', 'GMB7', 'GMB7', 'GMB7', 'GMB7', 'GMB7', 'GMB7', 'GMB7', 'GMB7', 'GMB7', 'GMB7', 'GMB7', 'GMB7', 'GMB7', 'GMB7', 'GMB7', 'GMB7', 'GMB7', 'GMB7', 'GMB7', 'GMB7', 'GMB7', 'GMB7', 'GMB7', 'GMB7', 'GMB7', 'GMB7', 'GMB7', 'GMB7', 'GMB7', 'GMB7', 'GMB7', 'GMB7', 'GMB7', 'GMB7', 'GMB7', 'GMB7', 'GMB7', 'GMB7', 'GMB7', 'GMB7', 'GMB7', 'GMB7', 'GMB7', 'GMB7', 'GMB7', 'GMB7', 'GMB7', 'GMB7', 'GMB7', 'GMB7', 'GMB7', 'GMB7', 'GMB7', 'GMB7', 'GMB7', 'GMB7', 'GMB7', 'GMB7', 'GMB7', 'GMB7', 'GMB7', 'GMB7', 'GMB7', 'GMB7', 'GMB7', 'GMB7', 'GMB7', 'GMB7', 'GMB7', 'GMB7', 'GMB7', 'GMB7', 'GMB7', 'GMB7', 'GMB7', 'GMB7', 'GMB7', 'GMB7', 'GMB7', 'GMB7', 'GMB7', 'GMB7', 'GMB7', 'GMB7', 'GMB7', 'GMB7', 'GMB7', 'GMB7', 'GMB7', 'GMB7', 'GMB7', 'GMB7', 'GMB7', 'GMB7', 'GMB7', 'GMB7', 'GMB7', 'GMB7', 'GMB7', 'GMB7', 'GMB7', 'GMB7', 'GMB7', 'GMB7', 'GMB7', 'GMB7', 'GMB7', 'GMB7', 'GMB7', 'GMB7', 'GMB7', 'GMB7', 'GMB7', 'GMB7', 'GMB7', 'GMB7', 'GMB7', 'GMB7', 'GMB7', 'GMB7', 'GMB7', 'GMB7', 'GMB7', 'GMB7', 'GMB7', 'GMB7', 'GMB7', 'GMB7', 'GMB7', 'GMB7', 'GMB7', 'GMB7', 'GMB7', 'GMB7', 'GMB7', 'GMB7', 'GMB7', 'GMB7', 'GMB7', 'GMB7', 'GMB7', 'GMB7', 'GMB7', 'GMB7', 'GMB7', 'GMB7', 'GMB7', 'GMB7', 'GMB7', 'GMB7', 'GMB7', 'GMB7', 'GMB7', 'GMB7', 'GMB7', 'GMB7', 'GMB7', 'GMB7', 'GMB7', 'GMB7', 'GMB7', 'GMB7', 'GMB7', 'GMB7', 'GMB7', 'GMB7', 'GMB7', 'GMB7', 'GMB7', 'GMB7', 'GMB7', 'GMB7', 'GMB7', 'GMB7', 'GMB7', 'GMB7', 'GMB7', 'GMB7', 'GMB7', 'GMB7', 'GMB7', 'GMB7', 'GMB7', 'GMB7', 'GMB7', 'GMB7', 'GMB7', 'GMB7', 'GMB7', 'GMB7', 'GMB7', 'GMB7', 'GMB7', 'GMB7', 'GMB7', 'GMB7', 'GMB7', 'GMB7', 'GMB7', 'GMB7', 'GMB7', 'GMB7', 'GMB7', 'GMB7', 'GMB7', 'GMB7', 'GMB7', 'GMB7', 'GMB7', 'GMB7', 'GMB7', 'GMB7', 'GMB7', 'GMB7', 'GMB7', 'GMB7', 'GMB7', 'GMB7', 'GMB7', 'GMB7', 'GMB7', 'GMB7', 'GMB7', 'GMB7', 'GMB7', 'GMB7', 'GMB7', 'GMB7', 'GMB7', 'GMB7', 'GMB7', 'GMB7', 'GMB7', 'GMB7', 'GMB7', 'GMB7', 'GMB7', 'GMB7', 'GMB7', 'GMB7', 'GMB7', 'GMB7', 'GMB7', 'GMB7', 'GMB7', 'GMB7', 'GMB7', 'GMB7', 'GMB7', 'GMB7', 'GMB7', 'GMB8', 'GMB8', 'GMB8', 'GMB8', 'GMB8', 'GMB8', 'GMB8', 'GMB8', 'GMB8', 'GMB8', 'GMB8', 'GMB8', 'GMB8', 'GMB8', 'GMB8', 'GMB8', 'GMB8', 'GMB8', 'GMB8', 'GMB8', 'GMB8', 'GMB8', 'GMB8', 'GMB8', 'GMB8', 'GMB8', 'GMB8', 'GMB8', 'GMB8', 'GMB8', 'GMB8', 'GMB8', 'GMB8', 'GMB8', 'GMB8', 'GMB8', 'GMB8', 'GMB8', 'GMB8', 'GMB8', 'GMB8', 'GMB8', 'GMB8', 'GMB8', 'GMB8', 'GMB8', 'GMB8', 'GMB8', 'GMB8', 'GMB8', 'GMB8', 'GMB8', 'GMB8', 'GMB8', 'GMB8', 'GMB8', 'GMB8', 'GMB8', 'GMB8', 'GMB8', 'GMB8', 'GMB8', 'GMB8', 'GMB8', 'GMB8', 'GMB8', 'GMB8', 'GMB8', 'GMB8', 'GMB8', 'GMB8', 'GMB8', 'GMB8', 'GMB8', 'GMB8', 'GMB8', 'GMB8', 'GMB8', 'GMB8', 'GMB8', 'GMB8', 'GMB8', 'GMB8', 'GMB8', 'GMB8', 'GMB8', 'GMB8', 'GMB8', 'GMB8', 'GMB8', 'GMB8', 'GMB8', 'GMB8', 'GMB8', 'GMB8', 'GMB8', 'GMB8', 'GMB8', 'GMB8', 'GMB8', 'GMB8', 'GMB8', 'GMB8', 'GMB8', 'GMB8', 'GMB8', 'GMB8', 'GMB8', 'GMB8', 'GMB8', 'GMB8', 'GMB8', 'GMB8', 'GMB8', 'GMB8', 'GMB8', 'GMB8', 'GMB8', 'GMB8', 'GMB8', 'GMB8', 'GMB8', 'GMB8', 'GMB8', 'GMB8', 'GMB8', 'GMB8', 'GMB8', 'GMB8', 'GMB8', 'GMB8', 'GMB8', 'GMB8', 'GMB8', 'GMB8', 'GMB8', 'GMB8', 'GMB8', 'GMB8', 'GMB8', 'GMB8', 'GMB8', 'GMB8', 'GMB8', 'GMB8', 'GMB8', 'GMB8', 'GMB8', 'GMB8', 'GMB8', 'GMB8', 'GMB8', 'GMB8', 'GMB8', 'GMB8', 'GMB8', 'GMB8', 'GMB8', 'GMB8', 'GMB8', 'GMB8', 'GMB8', 'GMB8', 'GMB8', 'GMB8', 'GMB8', 'GMB8', 'GMB8', 'GMB8', 'GMB8', 'GMB8', 'GMB8', 'GMB8', 'GMB8', 'GMB8', 'GMB8', 'GMB8', 'GMB8', 'GMB8', 'GMB8', 'GMB8', 'GMB8', 'GMB8', 'GMB8', 'GMB8', 'GMB8', 'GMB8', 'GMB8', 'GMB8', 'GMB8', 'GMB8', 'GMB8', 'GMB8', 'GMB8', 'GMB8', 'GMB8', 'GMB8', 'GMB8', 'GMB8', 'GMB8', 'GMB8', 'GMB8', 'GMB8', 'GMB8', 'GMB8', 'GMB8', 'GMB8', 'GMB8', 'GMB8', 'GMB8', 'GMB8', 'GMB8', 'GMB8', 'GMB8', 'GMB8', 'GMB8', 'GMB8', 'GMB8', 'GMB8', 'GMB8', 'GMB8', 'GMB8', 'GMB8', 'GMB8', 'GMB8', 'GMB8', 'GMB8', 'GMB8', 'GMB8', 'GMB8', 'GMB8', 'GMB8', 'GMB8', 'GMB8', 'GMB8', 'GMB8', 'GMB8', 'GMB8', 'GMB8', 'GMB8', 'GMB8', 'GMB8', 'GMB8', 'GMB8', 'GMB8', 'GMB8', 'GMB8', 'GMB8', 'GMB8', 'GMB8', 'GMB8', 'GMB8', 'GMB8', 'GMB8', 'GMB8', 'GMB8', 'GMB8', 'GMB8', 'GMB8', 'GMB8', 'GMB8', 'GMB8', 'GMB8', 'GMB8', 'GMB8', 'GMB8', 'GMB8', 'GMB8', 'GMB8', 'GMB8', 'GMB8', 'GMB8', 'GMB8', 'GMB8', 'GMB8', 'GMB8', 'GMB8', 'GMB8', 'GMB8', 'GMB8', 'GMB8', 'GMB8', 'GMB8', 'GMB8', 'GMB8', 'GMB8', 'GMB8', 'GMB8', 'GMB8', 'GMB8', 'GMB8', 'GMB8', 'GMB8', 'GMB8', 'GMB8', 'GMB8', 'GMB8', 'GMB8', 'GMB8', 'GMB8', 'GMB8', 'GMB8', 'GMB8', 'GMB8', 'GMB8', 'GMB8', 'GMB8', 'GMB8', 'GMB8', 'GMB8', 'GMB8', 'GMB8', 'GMB8', 'GMB8', 'GMB8', 'GMB8', 'GMB8', 'GMB8', 'GMB8', 'GMB8', 'GMB8', 'GMB8', 'GMB8', 'GMB8', 'GMB8', 'GMB8', 'GMB8', 'GMB8', 'GMB8', 'GMB8', 'GMB8', 'GMB8', 'GMB8', 'GMB8', 'GMB8', 'GMB8', 'GMB8', 'GMB8', 'GMB8', 'GMB8', 'GMB8', 'GMB8', 'GMB8', 'GMB8', 'GMB8', 'GMB8', 'GMB8', 'GMB8', 'GMB8', 'GMB8', 'GMB8', 'GMB8', 'GMB8', 'GMB8', 'GMB8', 'GMB8', 'GMB8', 'GMB8', 'GMB8', 'GMB8', 'GMB8', 'GMB8', 'GMB8', 'GMB8', 'GMB8', 'GMB8', 'GMB8', 'GMB8', 'GMB8', 'GMB8', 'GMB8', 'GMB8', 'GMB8', 'GMB8', 'GMB8', 'GMB8', 'GMB8', 'GMB8', 'GMB8', 'GMB8', 'GMB8', 'GMB8', 'GMB8', 'GMB8', 'GMB8', 'GMB8', 'GMB8', 'GMB8', 'GMB8', 'GMB8', 'GMB8', 'GMB8', 'GMB8', 'GMB8', 'GMB8', 'GMB8', 'GMB8', 'GMB8', 'GMB8', 'GMB8', 'GMB9', 'GMB9', 'GMB9', 'GMB9', 'GMB9', 'GMB9', 'GMB9', 'GMB9', 'GMB9', 'GMB9', 'GMB9', 'GMB9', 'GMB9', 'GMB9', 'GMB9', 'GMB9', 'GMB9', 'GMB9', 'GMB9', 'GMB9', 'GMB9', 'GMB9', 'GMB9', 'GMB9', 'GMB9', 'GMB9', 'GMB9', 'GMB9', 'GMB9', 'GMB9', 'GMB9', 'GMB9', 'GMB9', 'GMB9', 'GMB9', 'GMB9', 'GMB9', 'GMB9', 'GMB9', 'GMB9', 'GMB9', 'GMB9', 'GMB9', 'GMB9', 'GMB9', 'GMB9', 'GMB9', 'GMB9', 'GMB9', 'GMB9', 'GMB9', 'GMB9', 'GMB9', 'GMB9', 'GMB9', 'GMB9', 'GMB9', 'GMB9', 'GMB9', 'GMB9', 'GMB9', 'GMB9', 'GMB9', 'GMB9', 'GMB9', 'GMB9', 'GMB9', 'GMB9', 'GMB9', 'GMB9', 'GMB9', 'GMB9', 'GMB9', 'GMB9', 'GMB9', 'GMB9', 'GMB9', 'GMB9', 'GMB9', 'GMB9', 'GMB9', 'GMB9', 'GMB9', 'GMB9', 'GMB9', 'GMB9', 'GMB9', 'GMB9', 'GMB9', 'GMB9', 'GMB9', 'GMB9', 'GMB9', 'GMB9', 'GMB9', 'GMB9', 'GMB9', 'GMB9', 'GMB9', 'GMB9', 'GMB9', 'GMB9', 'GMB9', 'GMB9', 'GMB9', 'GMB9', 'GMB9', 'GMB9', 'GMB9', 'GMB9', 'GMB9', 'GMB9', 'GMB9', 'GMB9', 'GMB9', 'GMB9', 'GMB9', 'GMB9', 'GMB9', 'GMB9', 'GMB9', 'GMB9', 'GMB9', 'GMB9', 'GMB9', 'GMB9', 'GMB9', 'GMB9', 'GMB9', 'GMB9', 'GMB9', 'GMB9', 'GMB9', 'GMB9', 'GMB9', 'GMB9', 'GMB9', 'GMB9', 'GMB9', 'GMB9', 'GMB9', 'GMB9', 'GMB9', 'GMB9', 'GMB9', 'GMB9', 'GMB9', 'GMB9', 'GMB9', 'GMB9', 'GMB9', 'GMB9', 'GMB9', 'GMB9', 'GMB9', 'GMB9', 'GMB9', 'GMB9', 'GMB9', 'GMB9', 'GMB9', 'GMB9', 'GMB9', 'GMB9', 'GMB9', 'GMB9', 'GMB9', 'GMB9', 'GMB9', 'GMB9', 'GMB9', 'GMB9', 'GMB9', 'GMB9', 'GMB9', 'GMB9', 'GMB9', 'GMB9', 'GMB9', 'GMB9', 'GMB9', 'GMB9', 'GMB9', 'GMB9', 'GMB9', 'GMB9', 'GMB9', 'GMB9', 'GMB9', 'GMB9', 'GMB9', 'GMB9', 'GMB9', 'GMB9', 'GMB9', 'GMB9', 'GMB9', 'GMB9', 'GMB9', 'GMB9', 'GMB9', 'GMB9', 'GMB9', 'GMB9', 'GMB9', 'GMB9', 'GMB9', 'GMB9', 'GMB9', 'GMB9', 'GMB9', 'GMB9', 'GMB9', 'GMB9', 'GMB9', 'GMB9', 'GMB9', 'GMB9', 'GMB9', 'GMB9', 'GMB9', 'GMB9', 'GMB9', 'GMB9', 'GMB9', 'GMB9', 'GMB9', 'GMB9', 'GMB9', 'GMB9', 'GMB9', 'GMB9', 'GMB9', 'GMB9', 'GMB9', 'GMB9', 'GMB9', 'GMB9', 'GMB9', 'GMB9', 'GMB9', 'GMB9', 'GMB9', 'GMB9', 'GMB9', 'GMB9', 'GMB9', 'GMB9', 'GMB9', 'GMB9', 'GMB9', 'GMB9', 'GMB9', 'GMB9', 'GMB9', 'GMB9', 'GMB9', 'GMB9', 'GMB9', 'GMB9', 'GMB9', 'GMB9', 'GMB9', 'GMB9', 'GMB9', 'GMB9', 'GMB9', 'GMB9', 'GMB9', 'GMB9', 'GMB9', 'GMB9', 'GMB9', 'GMB9', 'GMB9', 'GMB9', 'GMB9', 'GMB9', 'GMB9', 'GMB9', 'GMB9', 'GMB9', 'GMB9', 'GMB9', 'GMB9', 'GMB9', 'GMB9', 'GMB9', 'GMB9', 'GMB9', 'GMB9', 'GMB9', 'GMB9', 'GMB9', 'GMB9', 'GMB9', 'GMB9', 'GMB9', 'GMB9', 'GMB9', 'GMB9', 'GMB9', 'GMB9', 'GMB9', 'GMB9', 'GMB9', 'GMB9', 'GMB9', 'GMB9', 'GMB9', 'GMB9', 'GMB9', 'GMB9', 'GMB9', 'GMB9', 'GMB9', 'GMB9', 'GMB9', 'GMB9', 'GMB9', 'GMB9', 'GMB9', 'GMB9', 'GMB9', 'GMB9', 'GMB9', 'GMB9', 'GMB9', 'GMB9', 'GMB9', 'GMB9', 'GMB9', 'GMB9', 'GMB9', 'GMB9', 'GMB9', 'GMB9', 'GMB9', 'GMB9', 'GMB9', 'GMB9', 'GMB9', 'GMB9', 'GMB9', 'GMB9', 'GMB9', 'GMB9', 'GMB9', 'GMB9', 'GMB9', 'GMB9', 'GMB9', 'GMB9', 'GMB9', 'GMB9', 'GMB9', 'GMB9', 'GMB9', 'GMB9', 'GMB9', 'GMB9', 'GMB9', 'GMB9', 'GMB9', 'GMB9', 'GMB9', 'GMB9', 'GMB9', 'GMB9', 'GMB9', 'GMB9', 'GMB9', 'GMB9', 'GMB9', 'GMB9', 'GMB9', 'GMB9', 'GMB9', 'GMB9', 'GMB9', 'GMB9', 'GMB9', 'GMB9', 'GMB9', 'GMB9', 'GMB9', 'GMB9', 'GMB9', 'GMB9', 'GMB9', 'GMB9', 'GMB9', 'GMB9', 'GMB9', 'GMB9', 'GMB9', 'GMB9', 'GMB9', 'GMB9', 'GMB9', 'GMB10', 'GMB10', 'GMB10', 'GMB10', 'GMB10', 'GMB10', 'GMB10', 'GMB10', 'GMB10', 'GMB10', 'GMB10', 'GMB10', 'GMB10', 'GMB10', 'GMB10', 'GMB10', 'GMB10', 'GMB10', 'GMB10', 'GMB10', 'GMB10', 'GMB10', 'GMB10', 'GMB10', 'GMB10', 'GMB10', 'GMB10', 'GMB10', 'GMB10', 'GMB10', 'GMB10', 'GMB10', 'GMB10', 'GMB10', 'GMB10', 'GMB10', 'GMB10', 'GMB10', 'GMB10', 'GMB10', 'GMB10', 'GMB10', 'GMB10', 'GMB10', 'GMB10', 'GMB10', 'GMB10', 'GMB10', 'GMB10', 'GMB10', 'GMB10', 'GMB10', 'GMB10', 'GMB10', 'GMB10', 'GMB10', 'GMB10', 'GMB10', 'GMB10', 'GMB10', 'GMB10', 'GMB10', 'GMB10', 'GMB10', 'GMB10', 'GMB10', 'GMB10', 'GMB10', 'GMB10', 'GMB10', 'GMB10', 'GMB10', 'GMB10', 'GMB10', 'GMB10', 'GMB10', 'GMB10', 'GMB10', 'GMB10', 'GMB10', 'GMB10', 'GMB10', 'GMB10', 'GMB10', 'GMB10', 'GMB10', 'GMB10', 'GMB10', 'GMB10', 'GMB10', 'GMB10', 'GMB10', 'GMB10', 'GMB10', 'GMB10', 'GMB10', 'GMB10', 'GMB10', 'GMB10', 'GMB10', 'GMB10', 'GMB10', 'GMB10', 'GMB10', 'GMB10', 'GMB10', 'GMB10', 'GMB10', 'GMB10', 'GMB10', 'GMB10', 'GMB10', 'GMB10', 'GMB10', 'GMB10', 'GMB10', 'GMB10', 'GMB10', 'GMB10', 'GMB10', 'GMB10', 'GMB10', 'GMB10', 'GMB10', 'GMB10', 'GMB10', 'GMB10', 'GMB10', 'GMB10', 'GMB10', 'GMB10', 'GMB10', 'GMB10', 'GMB10', 'GMB10', 'GMB10', 'GMB10', 'GMB10', 'GMB10', 'GMB10', 'GMB10', 'GMB10', 'GMB10', 'GMB10', 'GMB10', 'GMB10', 'GMB10', 'GMB10', 'GMB10', 'GMB10', 'GMB10', 'GMB10', 'GMB10', 'GMB10', 'GMB10', 'GMB10', 'GMB10', 'GMB10', 'GMB10', 'GMB10', 'GMB10', 'GMB10', 'GMB10', 'GMB10', 'GMB10', 'GMB10', 'GMB10', 'GMB10', 'GMB10', 'GMB10', 'GMB10', 'GMB10', 'GMB10', 'GMB10', 'GMB10', 'GMB10', 'GMB10', 'GMB10', 'GMB10', 'GMB10', 'GMB10', 'GMB10', 'GMB10', 'GMB10', 'GMB10', 'GMB10', 'GMB10', 'GMB10', 'GMB10', 'GMB10', 'GMB10', 'GMB10', 'GMB10', 'GMB10', 'GMB10', 'GMB10', 'GMB10', 'GMB10', 'GMB10', 'GMB10', 'GMB10', 'GMB10', 'GMB10', 'GMB10', 'GMB10', 'GMB10', 'GMB10', 'GMB10', 'GMB10', 'GMB10', 'GMB10', 'GMB10', 'GMB10', 'GMB10', 'GMB10', 'GMB10', 'GMB10', 'GMB10', 'GMB10', 'GMB10', 'GMB10', 'GMB10', 'GMB10', 'GMB10', 'GMB10', 'GMB10', 'GMB10', 'GMB10', 'GMB10', 'GMB10', 'GMB10', 'GMB10', 'GMB10', 'GMB10', 'GMB10', 'GMB10', 'GMB10', 'GMB10', 'GMB10', 'GMB10', 'GMB10', 'GMB10', 'GMB10', 'GMB10', 'GMB10', 'GMB10', 'GMB10', 'GMB10', 'GMB10', 'GMB10', 'GMB10', 'GMB10', 'GMB10', 'GMB10', 'GMB10', 'GMB10', 'GMB10', 'GMB10', 'GMB10', 'GMB10', 'GMB10', 'GMB10', 'GMB10', 'GMB10', 'GMB10', 'GMB10', 'GMB10', 'GMB10', 'GMB10', 'GMB10', 'GMB10', 'GMB10', 'GMB10', 'GMB10', 'GMB10', 'GMB10', 'GMB10', 'GMB10', 'GMB10', 'GMB10', 'GMB10', 'GMB10', 'GMB10', 'GMB10', 'GMB10', 'GMB10', 'GMB10', 'GMB10', 'GMB10', 'GMB10', 'GMB10', 'GMB10', 'GMB10', 'GMB10', 'GMB10', 'GMB10', 'GMB10', 'GMB10', 'GMB10', 'GMB10', 'GMB10', 'GMB10', 'GMB10', 'GMB10', 'GMB10', 'GMB10', 'GMB10', 'GMB10', 'GMB10', 'GMB10', 'GMB10', 'GMB10', 'GMB10', 'GMB10', 'GMB10', 'GMB10', 'GMB10', 'GMB10', 'GMB10', 'GMB10', 'GMB10', 'GMB10', 'GMB10', 'GMB10', 'GMB10', 'GMB10', 'GMB10', 'GMB10', 'GMB10', 'GMB10', 'GMB10', 'GMB10', 'GMB10', 'GMB10', 'GMB10', 'GMB10', 'GMB10', 'GMB10', 'GMB10', 'GMB10', 'GMB10', 'GMB10', 'GMB10', 'GMB10', 'GMB10', 'GMB10', 'GMB10', 'GMB10', 'GMB10', 'GMB10', 'GMB10', 'GMB10', 'GMB10', 'GMB10', 'GMB10', 'GMB10', 'GMB10', 'GMB10', 'GMB10', 'GMB10', 'GMB10', 'GMB10', 'GMB10', 'GMB10', 'GMB10', 'GMB10', 'GMB10', 'GMB10', 'GMB10', 'GMB10', 'GMB10', 'GMB10', 'GMB10', 'GMB10', 'GMB10', 'GMB10', 'GMB10', 'GMB10', 'GMB10', 'GMB10', 'GMB10', 'GMB10', 'GMB10', 'GMB10', 'GMB10', 'GMB10', 'GMB10', 'GMB10', 'GMB10', 'GMB10', 'GMB10', 'GMB10', 'GMB10', 'GMB10', 'GMB10', 'GMB10', 'GMB10', 'GMB10', 'GMB10', 'GMB10', 'GMB11', 'GMB11', 'GMB11', 'GMB11', 'GMB11', 'GMB11', 'GMB11', 'GMB11', 'GMB11', 'GMB11', 'GMB11', 'GMB11', 'GMB11', 'GMB11', 'GMB11', 'GMB11', 'GMB11', 'GMB11', 'GMB11', 'GMB11', 'GMB11', 'GMB11', 'GMB11', 'GMB11', 'GMB11', 'GMB11', 'GMB11', 'GMB11', 'GMB11', 'GMB11', 'GMB11', 'GMB11', 'GMB11', 'GMB11', 'GMB11', 'GMB11', 'GMB11', 'GMB11', 'GMB11', 'GMB11', 'GMB11', 'GMB11', 'GMB11', 'GMB11', 'GMB11', 'GMB11', 'GMB11', 'GMB11', 'GMB11', 'GMB11', 'GMB11', 'GMB11', 'GMB11', 'GMB11', 'GMB11', 'GMB11', 'GMB11', 'GMB11', 'GMB11', 'GMB11', 'GMB11', 'GMB11', 'GMB11', 'GMB11', 'GMB11', 'GMB11', 'GMB11', 'GMB11', 'GMB11', 'GMB11', 'GMB11', 'GMB11', 'GMB11', 'GMB11', 'GMB11', 'GMB11', 'GMB11', 'GMB11', 'GMB11', 'GMB11', 'GMB11', 'GMB11', 'GMB11', 'GMB11', 'GMB11', 'GMB11', 'GMB11', 'GMB11', 'GMB11', 'GMB11', 'GMB11', 'GMB11', 'GMB11', 'GMB11', 'GMB11', 'GMB11', 'GMB11', 'GMB11', 'GMB11', 'GMB11', 'GMB11', 'GMB11', 'GMB11', 'GMB11', 'GMB11', 'GMB11', 'GMB11', 'GMB11', 'GMB11', 'GMB11', 'GMB11', 'GMB11', 'GMB11', 'GMB11', 'GMB11', 'GMB11', 'GMB11', 'GMB11', 'GMB11', 'GMB11', 'GMB11', 'GMB11', 'GMB11', 'GMB11', 'GMB11', 'GMB11', 'GMB11', 'GMB11', 'GMB11', 'GMB11', 'GMB11', 'GMB11', 'GMB11', 'GMB11', 'GMB11', 'GMB11', 'GMB11', 'GMB11', 'GMB11', 'GMB11', 'GMB11', 'GMB11', 'GMB11', 'GMB11', 'GMB11', 'GMB11', 'GMB11', 'GMB11', 'GMB11', 'GMB11', 'GMB11', 'GMB11', 'GMB11', 'GMB11', 'GMB11', 'GMB11', 'GMB11', 'GMB11', 'GMB11', 'GMB11', 'GMB11', 'GMB11', 'GMB11', 'GMB11', 'GMB11', 'GMB11', 'GMB11', 'GMB11', 'GMB11', 'GMB11', 'GMB11', 'GMB11', 'GMB11', 'GMB11', 'GMB11', 'GMB11', 'GMB11', 'GMB11', 'GMB11', 'GMB11', 'GMB11', 'GMB11', 'GMB11', 'GMB11', 'GMB11', 'GMB11', 'GMB11', 'GMB11', 'GMB11', 'GMB11', 'GMB11', 'GMB11', 'GMB11', 'GMB11', 'GMB11', 'GMB11', 'GMB11', 'GMB11', 'GMB11', 'GMB11', 'GMB11', 'GMB11', 'GMB11', 'GMB11', 'GMB11', 'GMB11', 'GMB11', 'GMB11', 'GMB11', 'GMB11', 'GMB11', 'GMB11', 'GMB11', 'GMB11', 'GMB11', 'GMB11', 'GMB11', 'GMB11', 'GMB11', 'GMB11', 'GMB11', 'GMB11', 'GMB11', 'GMB11', 'GMB11', 'GMB11', 'GMB11', 'GMB11', 'GMB11', 'GMB11', 'GMB11', 'GMB11', 'GMB11', 'GMB11', 'GMB11', 'GMB11', 'GMB11', 'GMB11', 'GMB11', 'GMB11', 'GMB11', 'GMB11', 'GMB11', 'GMB11', 'GMB11', 'GMB11', 'GMB11', 'GMB11', 'GMB11', 'GMB11', 'GMB11', 'GMB11', 'GMB11', 'GMB11', 'GMB11', 'GMB11', 'GMB11', 'GMB11', 'GMB11', 'GMB11', 'GMB11', 'GMB11', 'GMB11', 'GMB11', 'GMB11', 'GMB11', 'GMB11', 'GMB11', 'GMB11', 'GMB11', 'GMB11', 'GMB11', 'GMB11', 'GMB11', 'GMB11', 'GMB11', 'GMB11', 'GMB11', 'GMB11', 'GMB11', 'GMB11', 'GMB11', 'GMB11', 'GMB11', 'GMB11', 'GMB11', 'GMB11', 'GMB11', 'GMB11', 'GMB11', 'GMB11', 'GMB11', 'GMB11', 'GMB11', 'GMB11', 'GMB11', 'GMB11', 'GMB11', 'GMB11', 'GMB11', 'GMB11', 'GMB11', 'GMB11', 'GMB11', 'GMB11', 'GMB11', 'GMB11', 'GMB11', 'GMB11', 'GMB11', 'GMB11', 'GMB11', 'GMB11', 'GMB11', 'GMB11', 'GMB11', 'GMB11', 'GMB11', 'GMB11', 'GMB11', 'GMB11', 'GMB11', 'GMB11', 'GMB11', 'GMB11', 'GMB11', 'GMB11', 'GMB11', 'GMB11', 'GMB11', 'GMB11', 'GMB11', 'GMB11', 'GMB11', 'GMB11', 'GMB11', 'GMB11', 'GMB11', 'GMB11', 'GMB11', 'GMB11', 'GMB11', 'GMB11', 'GMB11', 'GMB11', 'GMB11', 'GMB11', 'GMB11', 'GMB11', 'GMB11', 'GMB11', 'GMB11', 'GMB11', 'GMB11', 'GMB11', 'GMB11', 'GMB11', 'GMB11', 'GMB11', 'GMB11', 'GMB11', 'GMB11', 'GMB11', 'GMB11', 'GMB11', 'GMB11', 'GMB11', 'GMB11', 'GMB11', 'GMB11', 'GMB11', 'GMB11', 'GMB11', 'GMB11', 'GMB11', 'GMB11', 'GMB11', 'GMB11', 'GMB11', 'GMB11', 'GMB11', 'GMB11', 'GMB11', 'GMB11', 'GMB11', 'GMB11', 'GMB11', 'GMB11', 'GMB11', 'GMB11', 'GMB11', 'GMB11', 'GMB11', 'GMB11', 'GMB11', 'GMB11', 'GMB11', 'GMB11', 'GMB11', 'GMB11']\n",
            "[[1 0 0 ... 0 0 0]\n",
            " [1 0 0 ... 0 0 0]\n",
            " [1 0 0 ... 0 0 0]\n",
            " ...\n",
            " [0 0 1 ... 0 0 0]\n",
            " [0 0 1 ... 0 0 0]\n",
            " [0 0 1 ... 0 0 0]]\n"
          ],
          "name": "stdout"
        }
      ]
    },
    {
      "cell_type": "code",
      "metadata": {
        "id": "owVO8CpHExHj",
        "colab_type": "code",
        "colab": {
          "base_uri": "https://localhost:8080/",
          "height": 173
        },
        "outputId": "6aa61673-61f6-4fa2-d20b-abfd5526ed13"
      },
      "source": [
        "#ini one hot encoding dataset tanpa augmentasi, \n",
        "print(labels)\n",
        "lb = LabelBinarizer()\n",
        "labels = lb.fit_transform(labels)\n",
        "print(labels)"
      ],
      "execution_count": null,
      "outputs": [
        {
          "output_type": "stream",
          "text": [
            "['GMB1', 'GMB1', 'GMB1', 'GMB1', 'GMB1', 'GMB1', 'GMB1', 'GMB1', 'GMB1', 'GMB1', 'GMB1', 'GMB1', 'GMB1', 'GMB1', 'GMB1', 'GMB1', 'GMB1', 'GMB1', 'GMB1', 'GMB1', 'GMB1', 'GMB1', 'GMB1', 'GMB1', 'GMB1', 'GMB1', 'GMB1', 'GMB1', 'GMB1', 'GMB1', 'GMB1', 'GMB1', 'GMB1', 'GMB1', 'GMB1', 'GMB1', 'GMB1', 'GMB1', 'GMB1', 'GMB1', 'GMB1', 'GMB1', 'GMB1', 'GMB1', 'GMB1', 'GMB1', 'GMB1', 'GMB1', 'GMB1', 'GMB1', 'GMB1', 'GMB1', 'GMB1', 'GMB1', 'GMB1', 'GMB1', 'GMB1', 'GMB1', 'GMB1', 'GMB1', 'GMB1', 'GMB1', 'GMB1', 'GMB1', 'GMB1', 'GMB1', 'GMB1', 'GMB1', 'GMB1', 'GMB1', 'GMB1', 'GMB1', 'GMB1', 'GMB1', 'GMB1', 'GMB1', 'GMB1', 'GMB1', 'GMB1', 'GMB1', 'GMB1', 'GMB1', 'GMB1', 'GMB1', 'GMB1', 'GMB1', 'GMB1', 'GMB1', 'GMB1', 'GMB1', 'GMB1', 'GMB1', 'GMB1', 'GMB1', 'GMB1', 'GMB1', 'GMB1', 'GMB1', 'GMB1', 'GMB1', 'GMB2', 'GMB2', 'GMB2', 'GMB2', 'GMB2', 'GMB2', 'GMB2', 'GMB2', 'GMB2', 'GMB2', 'GMB2', 'GMB2', 'GMB2', 'GMB2', 'GMB2', 'GMB2', 'GMB2', 'GMB2', 'GMB2', 'GMB2', 'GMB2', 'GMB2', 'GMB2', 'GMB2', 'GMB2', 'GMB2', 'GMB2', 'GMB2', 'GMB2', 'GMB2', 'GMB2', 'GMB2', 'GMB2', 'GMB2', 'GMB2', 'GMB2', 'GMB2', 'GMB2', 'GMB2', 'GMB2', 'GMB2', 'GMB2', 'GMB2', 'GMB2', 'GMB2', 'GMB2', 'GMB2', 'GMB2', 'GMB2', 'GMB2', 'GMB2', 'GMB2', 'GMB2', 'GMB2', 'GMB2', 'GMB2', 'GMB2', 'GMB2', 'GMB2', 'GMB2', 'GMB2', 'GMB2', 'GMB2', 'GMB2', 'GMB2', 'GMB2', 'GMB2', 'GMB2', 'GMB2', 'GMB2', 'GMB2', 'GMB2', 'GMB2', 'GMB2', 'GMB2', 'GMB2', 'GMB2', 'GMB2', 'GMB2', 'GMB2', 'GMB2', 'GMB2', 'GMB2', 'GMB2', 'GMB2', 'GMB2', 'GMB2', 'GMB2', 'GMB2', 'GMB2', 'GMB2', 'GMB2', 'GMB2', 'GMB2', 'GMB2', 'GMB2', 'GMB2', 'GMB2', 'GMB2', 'GMB2', 'GMB3', 'GMB3', 'GMB3', 'GMB3', 'GMB3', 'GMB3', 'GMB3', 'GMB3', 'GMB3', 'GMB3', 'GMB3', 'GMB3', 'GMB3', 'GMB3', 'GMB3', 'GMB3', 'GMB3', 'GMB3', 'GMB3', 'GMB3', 'GMB3', 'GMB3', 'GMB3', 'GMB3', 'GMB3', 'GMB3', 'GMB3', 'GMB3', 'GMB3', 'GMB3', 'GMB3', 'GMB3', 'GMB3', 'GMB3', 'GMB3', 'GMB3', 'GMB3', 'GMB3', 'GMB3', 'GMB3', 'GMB3', 'GMB3', 'GMB3', 'GMB3', 'GMB3', 'GMB3', 'GMB3', 'GMB3', 'GMB3', 'GMB3', 'GMB3', 'GMB3', 'GMB3', 'GMB3', 'GMB3', 'GMB3', 'GMB3', 'GMB3', 'GMB3', 'GMB3', 'GMB3', 'GMB3', 'GMB3', 'GMB3', 'GMB3', 'GMB3', 'GMB3', 'GMB3', 'GMB3', 'GMB3', 'GMB3', 'GMB3', 'GMB3', 'GMB3', 'GMB3', 'GMB3', 'GMB3', 'GMB3', 'GMB3', 'GMB3', 'GMB3', 'GMB3', 'GMB3', 'GMB3', 'GMB3', 'GMB3', 'GMB3', 'GMB3', 'GMB3', 'GMB3', 'GMB3', 'GMB3', 'GMB3', 'GMB3', 'GMB3', 'GMB3', 'GMB3', 'GMB3', 'GMB3', 'GMB3', 'GMB4', 'GMB4', 'GMB4', 'GMB4', 'GMB4', 'GMB4', 'GMB4', 'GMB4', 'GMB4', 'GMB4', 'GMB4', 'GMB4', 'GMB4', 'GMB4', 'GMB4', 'GMB4', 'GMB4', 'GMB4', 'GMB4', 'GMB4', 'GMB4', 'GMB4', 'GMB4', 'GMB4', 'GMB4', 'GMB4', 'GMB4', 'GMB4', 'GMB4', 'GMB4', 'GMB4', 'GMB4', 'GMB4', 'GMB4', 'GMB4', 'GMB4', 'GMB4', 'GMB4', 'GMB4', 'GMB4', 'GMB4', 'GMB4', 'GMB4', 'GMB4', 'GMB4', 'GMB4', 'GMB4', 'GMB4', 'GMB4', 'GMB4', 'GMB4', 'GMB4', 'GMB4', 'GMB4', 'GMB4', 'GMB4', 'GMB4', 'GMB4', 'GMB4', 'GMB4', 'GMB4', 'GMB4', 'GMB4', 'GMB4', 'GMB4', 'GMB4', 'GMB4', 'GMB4', 'GMB4', 'GMB4', 'GMB4', 'GMB4', 'GMB4', 'GMB4', 'GMB4', 'GMB4', 'GMB4', 'GMB4', 'GMB4', 'GMB4', 'GMB4', 'GMB4', 'GMB4', 'GMB4', 'GMB4', 'GMB4', 'GMB4', 'GMB4', 'GMB4', 'GMB4', 'GMB4', 'GMB4', 'GMB4', 'GMB4', 'GMB4', 'GMB4', 'GMB4', 'GMB4', 'GMB4', 'GMB4', 'GMB5', 'GMB5', 'GMB5', 'GMB5', 'GMB5', 'GMB5', 'GMB5', 'GMB5', 'GMB5', 'GMB5', 'GMB5', 'GMB5', 'GMB5', 'GMB5', 'GMB5', 'GMB5', 'GMB5', 'GMB5', 'GMB5', 'GMB5', 'GMB5', 'GMB5', 'GMB5', 'GMB5', 'GMB5', 'GMB5', 'GMB5', 'GMB5', 'GMB5', 'GMB5', 'GMB5', 'GMB5', 'GMB5', 'GMB5', 'GMB5', 'GMB5', 'GMB5', 'GMB5', 'GMB5', 'GMB5', 'GMB5', 'GMB5', 'GMB5', 'GMB5', 'GMB5', 'GMB5', 'GMB5', 'GMB5', 'GMB5', 'GMB5', 'GMB5', 'GMB5', 'GMB5', 'GMB5', 'GMB5', 'GMB5', 'GMB5', 'GMB5', 'GMB5', 'GMB5', 'GMB5', 'GMB5', 'GMB5', 'GMB5', 'GMB5', 'GMB5', 'GMB5', 'GMB5', 'GMB5', 'GMB5', 'GMB5', 'GMB5', 'GMB5', 'GMB5', 'GMB5', 'GMB5', 'GMB5', 'GMB5', 'GMB5', 'GMB5', 'GMB5', 'GMB5', 'GMB5', 'GMB5', 'GMB5', 'GMB5', 'GMB5', 'GMB5', 'GMB5', 'GMB5', 'GMB5', 'GMB5', 'GMB5', 'GMB5', 'GMB5', 'GMB5', 'GMB5', 'GMB5', 'GMB5', 'GMB5', 'GMB6', 'GMB6', 'GMB6', 'GMB6', 'GMB6', 'GMB6', 'GMB6', 'GMB6', 'GMB6', 'GMB6', 'GMB6', 'GMB6', 'GMB6', 'GMB6', 'GMB6', 'GMB6', 'GMB6', 'GMB6', 'GMB6', 'GMB6', 'GMB6', 'GMB6', 'GMB6', 'GMB6', 'GMB6', 'GMB6', 'GMB6', 'GMB6', 'GMB6', 'GMB6', 'GMB6', 'GMB6', 'GMB6', 'GMB6', 'GMB6', 'GMB6', 'GMB6', 'GMB6', 'GMB6', 'GMB6', 'GMB6', 'GMB6', 'GMB6', 'GMB6', 'GMB6', 'GMB6', 'GMB6', 'GMB6', 'GMB6', 'GMB6', 'GMB6', 'GMB6', 'GMB6', 'GMB6', 'GMB6', 'GMB6', 'GMB6', 'GMB6', 'GMB6', 'GMB6', 'GMB6', 'GMB6', 'GMB6', 'GMB6', 'GMB6', 'GMB6', 'GMB6', 'GMB6', 'GMB6', 'GMB6', 'GMB6', 'GMB6', 'GMB6', 'GMB6', 'GMB6', 'GMB6', 'GMB6', 'GMB6', 'GMB6', 'GMB6', 'GMB6', 'GMB6', 'GMB6', 'GMB6', 'GMB6', 'GMB6', 'GMB6', 'GMB6', 'GMB6', 'GMB6', 'GMB6', 'GMB6', 'GMB6', 'GMB6', 'GMB6', 'GMB6', 'GMB6', 'GMB6', 'GMB6', 'GMB6', 'GMB7', 'GMB7', 'GMB7', 'GMB7', 'GMB7', 'GMB7', 'GMB7', 'GMB7', 'GMB7', 'GMB7', 'GMB7', 'GMB7', 'GMB7', 'GMB7', 'GMB7', 'GMB7', 'GMB7', 'GMB7', 'GMB7', 'GMB7', 'GMB7', 'GMB7', 'GMB7', 'GMB7', 'GMB7', 'GMB7', 'GMB7', 'GMB7', 'GMB7', 'GMB7', 'GMB7', 'GMB7', 'GMB7', 'GMB7', 'GMB7', 'GMB7', 'GMB7', 'GMB7', 'GMB7', 'GMB7', 'GMB7', 'GMB7', 'GMB7', 'GMB7', 'GMB7', 'GMB7', 'GMB7', 'GMB7', 'GMB7', 'GMB7', 'GMB7', 'GMB7', 'GMB7', 'GMB7', 'GMB7', 'GMB7', 'GMB7', 'GMB7', 'GMB7', 'GMB7', 'GMB7', 'GMB7', 'GMB7', 'GMB7', 'GMB7', 'GMB7', 'GMB7', 'GMB7', 'GMB7', 'GMB7', 'GMB7', 'GMB7', 'GMB7', 'GMB7', 'GMB7', 'GMB7', 'GMB7', 'GMB7', 'GMB7', 'GMB7', 'GMB7', 'GMB7', 'GMB7', 'GMB7', 'GMB7', 'GMB7', 'GMB7', 'GMB7', 'GMB7', 'GMB7', 'GMB7', 'GMB7', 'GMB7', 'GMB7', 'GMB7', 'GMB7', 'GMB7', 'GMB7', 'GMB7', 'GMB7', 'GMB8', 'GMB8', 'GMB8', 'GMB8', 'GMB8', 'GMB8', 'GMB8', 'GMB8', 'GMB8', 'GMB8', 'GMB8', 'GMB8', 'GMB8', 'GMB8', 'GMB8', 'GMB8', 'GMB8', 'GMB8', 'GMB8', 'GMB8', 'GMB8', 'GMB8', 'GMB8', 'GMB8', 'GMB8', 'GMB8', 'GMB8', 'GMB8', 'GMB8', 'GMB8', 'GMB8', 'GMB8', 'GMB8', 'GMB8', 'GMB8', 'GMB8', 'GMB8', 'GMB8', 'GMB8', 'GMB8', 'GMB8', 'GMB8', 'GMB8', 'GMB8', 'GMB8', 'GMB8', 'GMB8', 'GMB8', 'GMB8', 'GMB8', 'GMB8', 'GMB8', 'GMB8', 'GMB8', 'GMB8', 'GMB8', 'GMB8', 'GMB8', 'GMB8', 'GMB8', 'GMB8', 'GMB8', 'GMB8', 'GMB8', 'GMB8', 'GMB8', 'GMB8', 'GMB8', 'GMB8', 'GMB8', 'GMB8', 'GMB8', 'GMB8', 'GMB8', 'GMB8', 'GMB8', 'GMB8', 'GMB8', 'GMB8', 'GMB8', 'GMB8', 'GMB8', 'GMB8', 'GMB8', 'GMB8', 'GMB8', 'GMB8', 'GMB8', 'GMB8', 'GMB8', 'GMB8', 'GMB8', 'GMB8', 'GMB8', 'GMB8', 'GMB8', 'GMB8', 'GMB8', 'GMB8', 'GMB8', 'GMB9', 'GMB9', 'GMB9', 'GMB9', 'GMB9', 'GMB9', 'GMB9', 'GMB9', 'GMB9', 'GMB9', 'GMB9', 'GMB9', 'GMB9', 'GMB9', 'GMB9', 'GMB9', 'GMB9', 'GMB9', 'GMB9', 'GMB9', 'GMB9', 'GMB9', 'GMB9', 'GMB9', 'GMB9', 'GMB9', 'GMB9', 'GMB9', 'GMB9', 'GMB9', 'GMB9', 'GMB9', 'GMB9', 'GMB9', 'GMB9', 'GMB9', 'GMB9', 'GMB9', 'GMB9', 'GMB9', 'GMB9', 'GMB9', 'GMB9', 'GMB9', 'GMB9', 'GMB9', 'GMB9', 'GMB9', 'GMB9', 'GMB9', 'GMB9', 'GMB9', 'GMB9', 'GMB9', 'GMB9', 'GMB9', 'GMB9', 'GMB9', 'GMB9', 'GMB9', 'GMB9', 'GMB9', 'GMB9', 'GMB9', 'GMB9', 'GMB9', 'GMB9', 'GMB9', 'GMB9', 'GMB9', 'GMB9', 'GMB9', 'GMB9', 'GMB9', 'GMB9', 'GMB9', 'GMB9', 'GMB9', 'GMB9', 'GMB9', 'GMB9', 'GMB9', 'GMB9', 'GMB9', 'GMB9', 'GMB9', 'GMB9', 'GMB9', 'GMB9', 'GMB9', 'GMB9', 'GMB9', 'GMB9', 'GMB9', 'GMB9', 'GMB9', 'GMB9', 'GMB9', 'GMB9', 'GMB9', 'GMB10', 'GMB10', 'GMB10', 'GMB10', 'GMB10', 'GMB10', 'GMB10', 'GMB10', 'GMB10', 'GMB10', 'GMB10', 'GMB10', 'GMB10', 'GMB10', 'GMB10', 'GMB10', 'GMB10', 'GMB10', 'GMB10', 'GMB10', 'GMB10', 'GMB10', 'GMB10', 'GMB10', 'GMB10', 'GMB10', 'GMB10', 'GMB10', 'GMB10', 'GMB10', 'GMB10', 'GMB10', 'GMB10', 'GMB10', 'GMB10', 'GMB10', 'GMB10', 'GMB10', 'GMB10', 'GMB10', 'GMB10', 'GMB10', 'GMB10', 'GMB10', 'GMB10', 'GMB10', 'GMB10', 'GMB10', 'GMB10', 'GMB10', 'GMB10', 'GMB10', 'GMB10', 'GMB10', 'GMB10', 'GMB10', 'GMB10', 'GMB10', 'GMB10', 'GMB10', 'GMB10', 'GMB10', 'GMB10', 'GMB10', 'GMB10', 'GMB10', 'GMB10', 'GMB10', 'GMB10', 'GMB10', 'GMB10', 'GMB10', 'GMB10', 'GMB10', 'GMB10', 'GMB10', 'GMB10', 'GMB10', 'GMB10', 'GMB10', 'GMB10', 'GMB10', 'GMB10', 'GMB10', 'GMB10', 'GMB10', 'GMB10', 'GMB10', 'GMB10', 'GMB10', 'GMB10', 'GMB10', 'GMB10', 'GMB10', 'GMB10', 'GMB10', 'GMB10', 'GMB10', 'GMB10', 'GMB10', 'GMB11', 'GMB11', 'GMB11', 'GMB11', 'GMB11', 'GMB11', 'GMB11', 'GMB11', 'GMB11', 'GMB11', 'GMB11', 'GMB11', 'GMB11', 'GMB11', 'GMB11', 'GMB11', 'GMB11', 'GMB11', 'GMB11', 'GMB11', 'GMB11', 'GMB11', 'GMB11', 'GMB11', 'GMB11', 'GMB11', 'GMB11', 'GMB11', 'GMB11', 'GMB11', 'GMB11', 'GMB11', 'GMB11', 'GMB11', 'GMB11', 'GMB11', 'GMB11', 'GMB11', 'GMB11', 'GMB11', 'GMB11', 'GMB11', 'GMB11', 'GMB11', 'GMB11', 'GMB11', 'GMB11', 'GMB11', 'GMB11', 'GMB11', 'GMB11', 'GMB11', 'GMB11', 'GMB11', 'GMB11', 'GMB11', 'GMB11', 'GMB11', 'GMB11', 'GMB11', 'GMB11', 'GMB11', 'GMB11', 'GMB11', 'GMB11', 'GMB11', 'GMB11', 'GMB11', 'GMB11', 'GMB11', 'GMB11', 'GMB11', 'GMB11', 'GMB11', 'GMB11', 'GMB11', 'GMB11', 'GMB11', 'GMB11', 'GMB11', 'GMB11', 'GMB11', 'GMB11', 'GMB11', 'GMB11', 'GMB11', 'GMB11', 'GMB11', 'GMB11', 'GMB11', 'GMB11', 'GMB11', 'GMB11', 'GMB11', 'GMB11', 'GMB11', 'GMB11', 'GMB11', 'GMB11', 'GMB11']\n",
            "[[1 0 0 ... 0 0 0]\n",
            " [1 0 0 ... 0 0 0]\n",
            " [1 0 0 ... 0 0 0]\n",
            " ...\n",
            " [0 0 1 ... 0 0 0]\n",
            " [0 0 1 ... 0 0 0]\n",
            " [0 0 1 ... 0 0 0]]\n"
          ],
          "name": "stdout"
        }
      ]
    },
    {
      "cell_type": "code",
      "metadata": {
        "id": "YnJ_-VNeE1BA",
        "colab_type": "code",
        "colab": {
          "base_uri": "https://localhost:8080/",
          "height": 51
        },
        "outputId": "6f0b30c4-1bc1-4b89-a247-a21108d96bdd"
      },
      "source": [
        "#ini set data Train kalau pake augmen\n",
        "\n",
        "(trainX, dumbx, trainY, dumby) = train_test_split(np.array(aug),\n",
        "np.array(labels2), test_size=0.004)\n",
        "print(trainX.shape)\n",
        "print(trainY.shape)"
      ],
      "execution_count": null,
      "outputs": [
        {
          "output_type": "stream",
          "text": [
            "(4382, 224, 224, 3)\n",
            "(4382, 11)\n"
          ],
          "name": "stdout"
        }
      ]
    },
    {
      "cell_type": "code",
      "metadata": {
        "id": "9lcGXu78E4ec",
        "colab_type": "code",
        "colab": {
          "base_uri": "https://localhost:8080/",
          "height": 51
        },
        "outputId": "c8411773-3cf5-460c-b948-10e1ab65c024"
      },
      "source": [
        "#ini set data Test kalau pake augmen\n",
        "#ini dan cell atas harus di run\n",
        "\n",
        "(dumbx,testX, dumby, testY) = train_test_split(np.array(data),\n",
        "np.array(labels), test_size=0.40)\n",
        "print(testX.shape)\n",
        "print(testY.shape)"
      ],
      "execution_count": null,
      "outputs": [
        {
          "output_type": "stream",
          "text": [
            "(440, 224, 224, 3)\n",
            "(440, 11)\n"
          ],
          "name": "stdout"
        }
      ]
    },
    {
      "cell_type": "code",
      "metadata": {
        "id": "sW0_YT3Iq8jf",
        "colab_type": "code",
        "colab": {
          "base_uri": "https://localhost:8080/",
          "height": 54
        },
        "outputId": "38dd3246-573a-4c9a-d047-cb414e4a3b33"
      },
      "source": [
        "print(labels)"
      ],
      "execution_count": null,
      "outputs": [
        {
          "output_type": "stream",
          "text": [
            "['GMB 9', 'GMB 9', 'GMB 9', 'GMB 9', 'GMB 9', 'GMB 9', 'GMB 9', 'GMB 9', 'GMB 9', 'GMB 9', 'GMB 9', 'GMB 9', 'GMB 9', 'GMB 9', 'GMB 9', 'GMB 9', 'GMB 9', 'GMB 9', 'GMB 9', 'GMB 9', 'GMB 9', 'GMB 9', 'GMB 9', 'GMB 9', 'GMB 9', 'GMB 9', 'GMB 9', 'GMB 9', 'GMB 9', 'GMB 9', 'GMB 9', 'GMB 9', 'GMB 9', 'GMB 9', 'GMB 9', 'GMB 9', 'GMB 9', 'GMB 9', 'GMB 9', 'GMB 9', 'GMB 9', 'GMB 9', 'GMB 11', 'GMB 11', 'GMB 11', 'GMB 11', 'GMB 11', 'GMB 11', 'GMB 11', 'GMB 11', 'GMB 11', 'GMB 11', 'GMB 11', 'GMB 11', 'GMB 11', 'GMB 11', 'GMB 11', 'GMB 11', 'GMB 11', 'GMB 11', 'GMB 11', 'GMB 11', 'GMB 11', 'GMB 11', 'GMB 11', 'GMB 11', 'GMB 11', 'GMB 11', 'GMB 11', 'GMB 11', 'GMB 11', 'GMB 11', 'GMB 11', 'GMB 11', 'GMB 11', 'GMB 11', 'GMB 11', 'GMB 11', 'GMB 11', 'GMB 11', 'GMB 11', 'GMB 11', 'GMB 11', 'GMB 11', 'GMB 3', 'GMB 3', 'GMB 3', 'GMB 3', 'GMB 3', 'GMB 3', 'GMB 3', 'GMB 3', 'GMB 3', 'GMB 3', 'GMB 3', 'GMB 3', 'GMB 3', 'GMB 3', 'GMB 3', 'GMB 3', 'GMB 3', 'GMB 3', 'GMB 3', 'GMB 3', 'GMB 3', 'GMB 3', 'GMB 3', 'GMB 3', 'GMB 3', 'GMB 3', 'GMB 3', 'GMB 3', 'GMB 3', 'GMB 3', 'GMB 3', 'GMB 3', 'GMB 3', 'GMB 3', 'GMB 3', 'GMB 3', 'GMB 3', 'GMB 3', 'GMB 3', 'GMB 3', 'GMB 3', 'GMB 10', 'GMB 10', 'GMB 10', 'GMB 10', 'GMB 10', 'GMB 10', 'GMB 10', 'GMB 10', 'GMB 10', 'GMB 10', 'GMB 10', 'GMB 10', 'GMB 10', 'GMB 10', 'GMB 10', 'GMB 10', 'GMB 10', 'GMB 10', 'GMB 10', 'GMB 10', 'GMB 10', 'GMB 10', 'GMB 10', 'GMB 10', 'GMB 10', 'GMB 10', 'GMB 10', 'GMB 10', 'GMB 10', 'GMB 10', 'GMB 10', 'GMB 10', 'GMB 10', 'GMB 10', 'GMB 10', 'GMB 10', 'GMB 10', 'GMB 10', 'GMB 6', 'GMB 6', 'GMB 6', 'GMB 6', 'GMB 6', 'GMB 6', 'GMB 6', 'GMB 6', 'GMB 6', 'GMB 6', 'GMB 6', 'GMB 6', 'GMB 6', 'GMB 6', 'GMB 6', 'GMB 6', 'GMB 6', 'GMB 6', 'GMB 6', 'GMB 6', 'GMB 6', 'GMB 6', 'GMB 6', 'GMB 6', 'GMB 6', 'GMB 6', 'GMB 6', 'GMB 6', 'GMB 6', 'GMB 6', 'GMB 6', 'GMB 6', 'GMB 6', 'GMB 6', 'GMB 6', 'GMB 6', 'GMB 6', 'GMB 6', 'GMB 6', 'GMB 5', 'GMB 5', 'GMB 5', 'GMB 5', 'GMB 5', 'GMB 5', 'GMB 5', 'GMB 5', 'GMB 5', 'GMB 5', 'GMB 5', 'GMB 5', 'GMB 5', 'GMB 5', 'GMB 5', 'GMB 5', 'GMB 5', 'GMB 5', 'GMB 5', 'GMB 5', 'GMB 5', 'GMB 5', 'GMB 5', 'GMB 5', 'GMB 5', 'GMB 5', 'GMB 5', 'GMB 5', 'GMB 5', 'GMB 5', 'GMB 5', 'GMB 5', 'GMB 5', 'GMB 5', 'GMB 5', 'GMB 5', 'GMB 5', 'GMB 5', 'GMB 5', 'GMB 5', 'GMB 5', 'GMB 5', 'GMB 4', 'GMB 4', 'GMB 4', 'GMB 4', 'GMB 4', 'GMB 4', 'GMB 4', 'GMB 4', 'GMB 4', 'GMB 4', 'GMB 4', 'GMB 4', 'GMB 4', 'GMB 4', 'GMB 4', 'GMB 4', 'GMB 4', 'GMB 4', 'GMB 4', 'GMB 4', 'GMB 4', 'GMB 4', 'GMB 4', 'GMB 4', 'GMB 4', 'GMB 4', 'GMB 4', 'GMB 4', 'GMB 4', 'GMB 4', 'GMB 4', 'GMB 4', 'GMB 4', 'GMB 4', 'GMB 4', 'GMB 4', 'GMB 4', 'GMB 4', 'GMB 4', 'GMB 4', 'GMB 4', 'GMB 4', 'GMB 7', 'GMB 7', 'GMB 7', 'GMB 7', 'GMB 7', 'GMB 7', 'GMB 7', 'GMB 7', 'GMB 7', 'GMB 7', 'GMB 7', 'GMB 7', 'GMB 7', 'GMB 7', 'GMB 7', 'GMB 7', 'GMB 7', 'GMB 7', 'GMB 7', 'GMB 7', 'GMB 7', 'GMB 7', 'GMB 7', 'GMB 7', 'GMB 7', 'GMB 7', 'GMB 7', 'GMB 7', 'GMB 7', 'GMB 7', 'GMB 7', 'GMB 7', 'GMB 7', 'GMB 7', 'GMB 7', 'GMB 7', 'GMB 7', 'GMB 7', 'GMB 7', 'GMB 7', 'GMB 1', 'GMB 1', 'GMB 1', 'GMB 1', 'GMB 1', 'GMB 1', 'GMB 1', 'GMB 1', 'GMB 1', 'GMB 1', 'GMB 1', 'GMB 1', 'GMB 1', 'GMB 1', 'GMB 1', 'GMB 1', 'GMB 1', 'GMB 1', 'GMB 1', 'GMB 1', 'GMB 1', 'GMB 1', 'GMB 1', 'GMB 1', 'GMB 1', 'GMB 1', 'GMB 1', 'GMB 1', 'GMB 1', 'GMB 1', 'GMB 1', 'GMB 1', 'GMB 1', 'GMB 1', 'GMB 1', 'GMB 1', 'GMB 1', 'GMB 1', 'GMB 1', 'GMB 8', 'GMB 8', 'GMB 8', 'GMB 8', 'GMB 8', 'GMB 8', 'GMB 8', 'GMB 8', 'GMB 8', 'GMB 8', 'GMB 8', 'GMB 8', 'GMB 8', 'GMB 8', 'GMB 8', 'GMB 8', 'GMB 8', 'GMB 8', 'GMB 8', 'GMB 8', 'GMB 8', 'GMB 8', 'GMB 8', 'GMB 8', 'GMB 8', 'GMB 8', 'GMB 8', 'GMB 8', 'GMB 8', 'GMB 8', 'GMB 8', 'GMB 8', 'GMB 8', 'GMB 8', 'GMB 8', 'GMB 8', 'GMB 8', 'GMB 2', 'GMB 2', 'GMB 2', 'GMB 2', 'GMB 2', 'GMB 2', 'GMB 2', 'GMB 2', 'GMB 2', 'GMB 2', 'GMB 2', 'GMB 2', 'GMB 2', 'GMB 2', 'GMB 2', 'GMB 2', 'GMB 2', 'GMB 2', 'GMB 2', 'GMB 2', 'GMB 2', 'GMB 2', 'GMB 2', 'GMB 2', 'GMB 2', 'GMB 2', 'GMB 2', 'GMB 2', 'GMB 2', 'GMB 2', 'GMB 2', 'GMB 2', 'GMB 2', 'GMB 2', 'GMB 2', 'GMB 2', 'GMB 2', 'GMB 2', 'GMB 2', 'GMB 2', 'GMB 2', 'GMB 2', 'GMB 2', 'GMB 2']\n"
          ],
          "name": "stdout"
        }
      ]
    },
    {
      "cell_type": "code",
      "metadata": {
        "id": "f1vfOFWGrQRm",
        "colab_type": "code",
        "colab": {
          "base_uri": "https://localhost:8080/",
          "height": 136
        },
        "outputId": "266f71c5-a259-4837-9b3a-dc1ba461b7fd"
      },
      "source": [
        "lb = LabelBinarizer()\n",
        "labels = lb.fit_transform(labels)\n",
        "print(labels)"
      ],
      "execution_count": null,
      "outputs": [
        {
          "output_type": "stream",
          "text": [
            "[[0 0 0 ... 0 0 1]\n",
            " [0 0 0 ... 0 0 1]\n",
            " [0 0 0 ... 0 0 1]\n",
            " ...\n",
            " [0 0 0 ... 0 0 0]\n",
            " [0 0 0 ... 0 0 0]\n",
            " [0 0 0 ... 0 0 0]]\n"
          ],
          "name": "stdout"
        }
      ]
    },
    {
      "cell_type": "code",
      "metadata": {
        "id": "NRiyz4RXs8BU",
        "colab_type": "code",
        "colab": {
          "base_uri": "https://localhost:8080/",
          "height": 51
        },
        "outputId": "0461d4e9-c6fb-4dd5-b981-d0850c1ae700"
      },
      "source": [
        "#ini buat dataset asli aja\n",
        "(trainX,testX, trainY, testY) = train_test_split(np.array(data),\n",
        "np.array(labels), test_size=0.20)\n",
        "print(trainX.shape)\n",
        "print(testX.shape)"
      ],
      "execution_count": null,
      "outputs": [
        {
          "output_type": "stream",
          "text": [
            "(356, 224, 224, 3)\n",
            "(90, 224, 224, 3)\n"
          ],
          "name": "stdout"
        }
      ]
    },
    {
      "cell_type": "code",
      "metadata": {
        "id": "o1TaniN5tN-V",
        "colab_type": "code",
        "colab": {}
      },
      "source": [
        "def identity_block(X, f, filters, stage, block):\n",
        "    \"\"\"\n",
        "    Implementation of the identity block as defined in Figure 3\n",
        "    \n",
        "    Arguments:\n",
        "    X -- input tensor of shape (m, n_H_prev, n_W_prev, n_C_prev)\n",
        "    f -- integer, specifying the shape of the middle CONV's window for the main path\n",
        "    filters -- python list of integers, defining the number of filters in the CONV layers of the main path\n",
        "    stage -- integer, used to name the layers, depending on their position in the network\n",
        "    block -- string/character, used to name the layers, depending on their position in the network\n",
        "    \n",
        "    Returns:\n",
        "    X -- output of the identity block, tensor of shape (n_H, n_W, n_C)\n",
        "    \"\"\"\n",
        "    \n",
        "    # defining name basis\n",
        "    conv_name_base = 'res' + str(stage) + block + '_branch'\n",
        "    bn_name_base = 'bn' + str(stage) + block + '_branch'\n",
        "    \n",
        "    # Retrieve Filters\n",
        "    F1, F2, F3 = filters\n",
        "    \n",
        "    # Save the input value. You'll need this later to add back to the main path. \n",
        "    X_shortcut = X\n",
        "    \n",
        "    # First component of main path\n",
        "    X = Conv2D(filters = F1, kernel_size = (1, 1), strides = (1,1), padding = 'valid', name = conv_name_base + '2a', kernel_initializer = glorot_uniform(seed=0))(X)\n",
        "    X = BatchNormalization(axis = 3, name = bn_name_base + '2a')(X)\n",
        "    X = Activation('relu')(X)\n",
        "\n",
        "    \n",
        "    # Second component of main path (≈3 lines)\n",
        "    X = Conv2D(filters = F2, kernel_size = (f, f), strides = (1,1), padding = 'same', name = conv_name_base + '2b', kernel_initializer = glorot_uniform(seed=0))(X)\n",
        "    X = BatchNormalization(axis = 3, name = bn_name_base + '2b')(X)\n",
        "    X = Activation('relu')(X)\n",
        "\n",
        "    # Third component of main path (≈2 lines)\n",
        "    X = Conv2D(filters = F3, kernel_size = (1, 1), strides = (1,1), padding = 'valid', name = conv_name_base + '2c', kernel_initializer = glorot_uniform(seed=0))(X)\n",
        "    X = BatchNormalization(axis = 3, name = bn_name_base + '2c')(X)\n",
        "\n",
        "    # Final step: Add shortcut value to main path, and pass it through a RELU activation (≈2 lines)\n",
        "    X = Add()([X, X_shortcut])\n",
        "    X = Activation('relu')(X)\n",
        "    \n",
        "    \n",
        "    return X"
      ],
      "execution_count": null,
      "outputs": []
    },
    {
      "cell_type": "code",
      "metadata": {
        "id": "1HXTJDEstU1t",
        "colab_type": "code",
        "colab": {}
      },
      "source": [
        "def convolutional_block(X, f, filters, stage, block, s = 2):\n",
        "    \"\"\"\n",
        "    Implementation of the convolutional block as defined in Figure 4\n",
        "    \n",
        "    Arguments:\n",
        "    X -- input tensor of shape (m, n_H_prev, n_W_prev, n_C_prev)\n",
        "    f -- integer, specifying the shape of the middle CONV's window for the main path\n",
        "    filters -- python list of integers, defining the number of filters in the CONV layers of the main path\n",
        "    stage -- integer, used to name the layers, depending on their position in the network\n",
        "    block -- string/character, used to name the layers, depending on their position in the network\n",
        "    s -- Integer, specifying the stride to be used\n",
        "    \n",
        "    Returns:\n",
        "    X -- output of the convolutional block, tensor of shape (n_H, n_W, n_C)\n",
        "    \"\"\"\n",
        "    \n",
        "    # defining name basis\n",
        "    conv_name_base = 'res' + str(stage) + block + '_branch'\n",
        "    bn_name_base = 'bn' + str(stage) + block + '_branch'\n",
        "    \n",
        "    # Retrieve Filters\n",
        "    F1, F2, F3 = filters\n",
        "    \n",
        "    # Save the input value\n",
        "    X_shortcut = X\n",
        "\n",
        "\n",
        "    ##### MAIN PATH #####\n",
        "    # First component of main path \n",
        "    X = Conv2D(F1, (1, 1), strides = (s,s), name = conv_name_base + '2a', kernel_initializer = glorot_uniform(seed=0))(X)\n",
        "    X = BatchNormalization(axis = 3, name = bn_name_base + '2a')(X)\n",
        "    X = Activation('relu')(X)\n",
        "\n",
        "    # Second component of main path (≈3 lines)\n",
        "    X = Conv2D(filters = F2, kernel_size = (f, f), strides = (1,1), padding = 'same', name = conv_name_base + '2b', kernel_initializer = glorot_uniform(seed=0))(X)\n",
        "    X = BatchNormalization(axis = 3, name = bn_name_base + '2b')(X)\n",
        "    X = Activation('relu')(X)\n",
        "\n",
        "\n",
        "    # Third component of main path (≈2 lines)\n",
        "    X = Conv2D(filters = F3, kernel_size = (1, 1), strides = (1,1), padding = 'valid', name = conv_name_base + '2c', kernel_initializer = glorot_uniform(seed=0))(X)\n",
        "    X = BatchNormalization(axis = 3, name = bn_name_base + '2c')(X)\n",
        "\n",
        "\n",
        "    ##### SHORTCUT PATH #### (≈2 lines)\n",
        "    X_shortcut = Conv2D(filters = F3, kernel_size = (1, 1), strides = (s,s), padding = 'valid', name = conv_name_base + '1',\n",
        "                        kernel_initializer = glorot_uniform(seed=0))(X_shortcut)\n",
        "    X_shortcut = BatchNormalization(axis = 3, name = bn_name_base + '1')(X_shortcut)\n",
        "\n",
        "    # Final step: Add shortcut value to main path, and pass it through a RELU activation (≈2 lines)\n",
        "    X = Add()([X, X_shortcut])\n",
        "    X = Activation('relu')(X)\n",
        "    \n",
        "    \n",
        "    return X"
      ],
      "execution_count": null,
      "outputs": []
    },
    {
      "cell_type": "code",
      "metadata": {
        "id": "JX6mpgFLta3y",
        "colab_type": "code",
        "colab": {}
      },
      "source": [
        "def ResNet50(input_shape=(224, 224, 3), classes=11):\n",
        "    \"\"\"\n",
        "    Implementation of the popular ResNet50 the following architecture:\n",
        "    CONV2D -> BATCHNORM -> RELU -> MAXPOOL -> CONVBLOCK -> IDBLOCK*2 -> CONVBLOCK -> IDBLOCK*3\n",
        "    -> CONVBLOCK -> IDBLOCK*5 -> CONVBLOCK -> IDBLOCK*2 -> AVGPOOL -> TOPLAYER\n",
        "\n",
        "    Arguments:\n",
        "    input_shape -- shape of the images of the dataset\n",
        "    classes -- integer, number of classes\n",
        "\n",
        "    Returns:\n",
        "    model -- a Model() instance in Keras\n",
        "    \"\"\"\n",
        "\n",
        "    # Define the input as a tensor with shape input_shape\n",
        "    X_input = Input(input_shape)\n",
        "\n",
        "    # Zero-Padding\n",
        "    X = ZeroPadding2D((3, 3))(X_input)\n",
        "\n",
        "    # Stage 1\n",
        "    X = Conv2D(64, (7, 7), strides=(2, 2), name='conv1', kernel_initializer=glorot_uniform(seed=0))(X)\n",
        "    X = BatchNormalization(axis=3, name='bn_conv1')(X)\n",
        "    X = Activation('relu')(X)\n",
        "    X = MaxPooling2D((3, 3), strides=(2, 2))(X)\n",
        "\n",
        "    # Stage 2\n",
        "    X = convolutional_block(X, f=3, filters=[64, 64, 256], stage=2, block='a', s=1)\n",
        "    X = identity_block(X, 3, [64, 64, 256], stage=2, block='b')\n",
        "    X = identity_block(X, 3, [64, 64, 256], stage=2, block='c')\n",
        "\n",
        "    ### START CODE HERE ###\n",
        "\n",
        "    # Stage 3 (≈4 lines)\n",
        "    X = convolutional_block(X, f = 3, filters = [128, 128, 512], stage = 3, block='a', s = 2)\n",
        "    X = identity_block(X, 3, [128, 128, 512], stage=3, block='b')\n",
        "    X = identity_block(X, 3, [128, 128, 512], stage=3, block='c')\n",
        "    X = identity_block(X, 3, [128, 128, 512], stage=3, block='d')\n",
        "\n",
        "    # Stage 4 (≈6 lines)\n",
        "    X = convolutional_block(X, f = 3, filters = [256, 256, 1024], stage = 4, block='a', s = 2)\n",
        "    X = identity_block(X, 3, [256, 256, 1024], stage=4, block='b')\n",
        "    X = identity_block(X, 3, [256, 256, 1024], stage=4, block='c')\n",
        "    X = identity_block(X, 3, [256, 256, 1024], stage=4, block='d')\n",
        "    X = identity_block(X, 3, [256, 256, 1024], stage=4, block='e')\n",
        "    X = identity_block(X, 3, [256, 256, 1024], stage=4, block='f')\n",
        "\n",
        "    # Stage 5 (≈3 lines)\n",
        "    X = convolutional_block(X, f = 3, filters = [512, 512, 2048], stage = 5, block='a', s = 2)\n",
        "    X = identity_block(X, 3, [512, 512, 2048], stage=5, block='b')\n",
        "    X = identity_block(X, 3, [512, 512, 2048], stage=5, block='c')\n",
        "\n",
        "    # AVGPOOL (≈1 line). Use \"X = AveragePooling2D(...)(X)\"\n",
        "    X = AveragePooling2D((2,2), name=\"avg_pool\")(X)\n",
        "\n",
        "    ### END CODE HERE ###\n",
        "\n",
        "    # output layer\n",
        "    X = Flatten()(X)\n",
        "    X = Dense(classes, activation='softmax', name='fc' + str(classes), kernel_initializer = glorot_uniform(seed=0))(X)\n",
        "    \n",
        "    \n",
        "    # Create model\n",
        "    model = Model(inputs = X_input, outputs = X, name='ResNet50')\n",
        "\n",
        "    return model"
      ],
      "execution_count": null,
      "outputs": []
    },
    {
      "cell_type": "code",
      "metadata": {
        "id": "mrTHykr69RXn",
        "colab_type": "code",
        "colab": {}
      },
      "source": [
        "def ResNet101(input_shape=(224, 224, 3), classes=11):\n",
        "    \"\"\"\n",
        "    Implementation of the popular ResNet50 the following architecture:\n",
        "    CONV2D -> BATCHNORM -> RELU -> MAXPOOL -> CONVBLOCK -> IDBLOCK*2 -> CONVBLOCK -> IDBLOCK*3\n",
        "    -> CONVBLOCK -> IDBLOCK*5 -> CONVBLOCK -> IDBLOCK*2 -> AVGPOOL -> TOPLAYER\n",
        "\n",
        "    Arguments:\n",
        "    input_shape -- shape of the images of the dataset\n",
        "    classes -- integer, number of classes\n",
        "\n",
        "    Returns:\n",
        "    model -- a Model() instance in Keras\n",
        "    \"\"\"\n",
        "\n",
        "    # Define the input as a tensor with shape input_shape\n",
        "    X_input = Input(input_shape)\n",
        "\n",
        "    # Zero-Padding\n",
        "    X = ZeroPadding2D((3, 3))(X_input)\n",
        "\n",
        "    # Stage 1\n",
        "    X = Conv2D(64, (7, 7), strides=(2, 2), name='conv1', kernel_initializer=glorot_uniform(seed=0))(X)\n",
        "    X = BatchNormalization(axis=3, name='bn_conv1')(X)\n",
        "    X = Activation('relu')(X)\n",
        "    X = MaxPooling2D((3, 3), strides=(2, 2))(X)\n",
        "\n",
        "    # Stage 2\n",
        "    X = convolutional_block(X, f=3, filters=[64, 64, 256], stage=2, block='a', s=1)\n",
        "    X = identity_block(X, 3, [64, 64, 256], stage=2, block='b')\n",
        "    X = identity_block(X, 3, [64, 64, 256], stage=2, block='c')\n",
        "\n",
        "    ### START CODE HERE ###\n",
        "\n",
        "    # Stage 3 (≈4 lines)\n",
        "    X = convolutional_block(X, f = 3, filters = [128, 128, 512], stage = 3, block='a', s = 2)\n",
        "    X = identity_block(X, 3, [128, 128, 512], stage=3, block='b')\n",
        "    X = identity_block(X, 3, [128, 128, 512], stage=3, block='c')\n",
        "    X = identity_block(X, 3, [128, 128, 512], stage=3, block='d')\n",
        "\n",
        "    # Stage 4 (≈6 lines)\n",
        "    X = convolutional_block(X, f = 3, filters = [256, 256, 1024], stage = 4, block='a', s = 2)\n",
        "    X = identity_block(X, 3, [256, 256, 1024], stage=4, block='b')\n",
        "    X = identity_block(X, 3, [256, 256, 1024], stage=4, block='c')\n",
        "    X = identity_block(X, 3, [256, 256, 1024], stage=4, block='d')\n",
        "    X = identity_block(X, 3, [256, 256, 1024], stage=4, block='e')\n",
        "    X = identity_block(X, 3, [256, 256, 1024], stage=4, block='f')\n",
        "    X = identity_block(X, 3, [256, 256, 1024], stage=4, block='g')\n",
        "    X = identity_block(X, 3, [256, 256, 1024], stage=4, block='h')\n",
        "    X = identity_block(X, 3, [256, 256, 1024], stage=4, block='i')\n",
        "    X = identity_block(X, 3, [256, 256, 1024], stage=4, block='j')\n",
        "    X = identity_block(X, 3, [256, 256, 1024], stage=4, block='k')\n",
        "    X = identity_block(X, 3, [256, 256, 1024], stage=4, block='l')\n",
        "    X = identity_block(X, 3, [256, 256, 1024], stage=4, block='m')\n",
        "    X = identity_block(X, 3, [256, 256, 1024], stage=4, block='n')\n",
        "    X = identity_block(X, 3, [256, 256, 1024], stage=4, block='o')\n",
        "    X = identity_block(X, 3, [256, 256, 1024], stage=4, block='p')\n",
        "    X = identity_block(X, 3, [256, 256, 1024], stage=4, block='q')\n",
        "    X = identity_block(X, 3, [256, 256, 1024], stage=4, block='r')\n",
        "    X = identity_block(X, 3, [256, 256, 1024], stage=4, block='s')\n",
        "    X = identity_block(X, 3, [256, 256, 1024], stage=4, block='t')\n",
        "    X = identity_block(X, 3, [256, 256, 1024], stage=4, block='u')\n",
        "    X = identity_block(X, 3, [256, 256, 1024], stage=4, block='v')\n",
        "    X = identity_block(X, 3, [256, 256, 1024], stage=4, block='w')\n",
        "\n",
        "    # Stage 5 (≈3 lines)\n",
        "    X = convolutional_block(X, f = 3, filters = [512, 512, 2048], stage = 5, block='a', s = 2)\n",
        "    X = identity_block(X, 3, [512, 512, 2048], stage=5, block='b')\n",
        "    X = identity_block(X, 3, [512, 512, 2048], stage=5, block='c')\n",
        "\n",
        "    # AVGPOOL (≈1 line). Use \"X = AveragePooling2D(...)(X)\"\n",
        "    X = AveragePooling2D((2,2), name=\"avg_pool\")(X)\n",
        "    X = Dropout(0.25, name = \"do\")(X)\n",
        "\n",
        "\n",
        "    ### END CODE HERE ###\n",
        "\n",
        "    # output layer\n",
        "    X = Flatten()(X)\n",
        "    X = Dense(classes, activation='softmax', name='fc' + str(classes), kernel_initializer = glorot_uniform(seed=0))(X)\n",
        "    \n",
        "    \n",
        "    # Create model\n",
        "    model = Model(inputs = X_input, outputs = X, name='ResNet50')\n",
        "\n",
        "    return model"
      ],
      "execution_count": null,
      "outputs": []
    },
    {
      "cell_type": "code",
      "metadata": {
        "id": "EYwyO6n1ti70",
        "colab_type": "code",
        "colab": {
          "base_uri": "https://localhost:8080/",
          "height": 156
        },
        "outputId": "829cabe5-b2bd-4d46-d66a-765f0442f884"
      },
      "source": [
        "#model = ResNet50(input_shape = (224, 224, 3), classes = 11)\n",
        "model = ResNet101(input_shape = (224, 224, 3), classes = 11)\n",
        "\n"
      ],
      "execution_count": null,
      "outputs": [
        {
          "output_type": "stream",
          "text": [
            "WARNING:tensorflow:From /tensorflow-1.15.2/python3.6/tensorflow_core/python/ops/resource_variable_ops.py:1630: calling BaseResourceVariable.__init__ (from tensorflow.python.ops.resource_variable_ops) with constraint is deprecated and will be removed in a future version.\n",
            "Instructions for updating:\n",
            "If using Keras pass *_constraint arguments to layers.\n",
            "WARNING:tensorflow:From /usr/local/lib/python3.6/dist-packages/keras/backend/tensorflow_backend.py:4070: The name tf.nn.max_pool is deprecated. Please use tf.nn.max_pool2d instead.\n",
            "\n",
            "WARNING:tensorflow:From /usr/local/lib/python3.6/dist-packages/keras/backend/tensorflow_backend.py:4074: The name tf.nn.avg_pool is deprecated. Please use tf.nn.avg_pool2d instead.\n",
            "\n"
          ],
          "name": "stdout"
        }
      ]
    },
    {
      "cell_type": "code",
      "metadata": {
        "id": "xvCejO8Kt_r7",
        "colab_type": "code",
        "colab": {}
      },
      "source": [
        "#model.compile(optimizer='adam', loss='categorical_crossentropy', metrics=['accuracy'])\n",
        "opt = SGD(lr=1e-3, decay=1e-3 / 50)\n",
        "model.compile(loss=\"categorical_crossentropy\", optimizer=opt, metrics=[\"accuracy\"])\n",
        "\n",
        "#model.compile(optimizer=SGD(lr=0.0001, momentum=0.9), loss='categorical_crossentropy', metrics = ['accuracy'])\n"
      ],
      "execution_count": null,
      "outputs": []
    },
    {
      "cell_type": "code",
      "metadata": {
        "id": "yxeiuRtMuBua",
        "colab_type": "code",
        "colab": {
          "base_uri": "https://localhost:8080/",
          "height": 1000
        },
        "outputId": "b9f30594-9b59-4ff2-9527-d877963b4221"
      },
      "source": [
        "H=model.fit(trainX, trainY,validation_data=(testX, testY), epochs = 55, batch_size = 32)\n",
        "predY=model.predict(testX)\n"
      ],
      "execution_count": null,
      "outputs": [
        {
          "output_type": "stream",
          "text": [
            "WARNING:tensorflow:From /usr/local/lib/python3.6/dist-packages/keras/backend/tensorflow_backend.py:422: The name tf.global_variables is deprecated. Please use tf.compat.v1.global_variables instead.\n",
            "\n",
            "Train on 4382 samples, validate on 440 samples\n",
            "Epoch 1/55\n",
            "4382/4382 [==============================] - 196s 45ms/step - loss: 4.6617 - accuracy: 0.1120 - val_loss: 4.9582 - val_accuracy: 0.1500\n",
            "Epoch 2/55\n",
            "4382/4382 [==============================] - 179s 41ms/step - loss: 3.1410 - accuracy: 0.1495 - val_loss: 2.9977 - val_accuracy: 0.1341\n",
            "Epoch 3/55\n",
            "4382/4382 [==============================] - 180s 41ms/step - loss: 2.7586 - accuracy: 0.1871 - val_loss: 2.7429 - val_accuracy: 0.1773\n",
            "Epoch 4/55\n",
            "4382/4382 [==============================] - 180s 41ms/step - loss: 2.4648 - accuracy: 0.2339 - val_loss: 2.3836 - val_accuracy: 0.2750\n",
            "Epoch 5/55\n",
            "4382/4382 [==============================] - 180s 41ms/step - loss: 2.0938 - accuracy: 0.3115 - val_loss: 1.8970 - val_accuracy: 0.3250\n",
            "Epoch 6/55\n",
            "4382/4382 [==============================] - 180s 41ms/step - loss: 1.7665 - accuracy: 0.4160 - val_loss: 1.6918 - val_accuracy: 0.4432\n",
            "Epoch 7/55\n",
            "4382/4382 [==============================] - 180s 41ms/step - loss: 1.5999 - accuracy: 0.4799 - val_loss: 1.9302 - val_accuracy: 0.4432\n",
            "Epoch 8/55\n",
            "4382/4382 [==============================] - 180s 41ms/step - loss: 1.2831 - accuracy: 0.5753 - val_loss: 1.0083 - val_accuracy: 0.7023\n",
            "Epoch 9/55\n",
            "4382/4382 [==============================] - 180s 41ms/step - loss: 0.9801 - accuracy: 0.7010 - val_loss: 0.8664 - val_accuracy: 0.7432\n",
            "Epoch 10/55\n",
            "4382/4382 [==============================] - 180s 41ms/step - loss: 0.7877 - accuracy: 0.7750 - val_loss: 0.6314 - val_accuracy: 0.8409\n",
            "Epoch 11/55\n",
            "4382/4382 [==============================] - 180s 41ms/step - loss: 0.5955 - accuracy: 0.8542 - val_loss: 0.5407 - val_accuracy: 0.8909\n",
            "Epoch 12/55\n",
            "4382/4382 [==============================] - 179s 41ms/step - loss: 0.4541 - accuracy: 0.9019 - val_loss: 0.4170 - val_accuracy: 0.9136\n",
            "Epoch 13/55\n",
            "4382/4382 [==============================] - 179s 41ms/step - loss: 0.3383 - accuracy: 0.9336 - val_loss: 0.3199 - val_accuracy: 0.9409\n",
            "Epoch 14/55\n",
            "4382/4382 [==============================] - 180s 41ms/step - loss: 0.2775 - accuracy: 0.9487 - val_loss: 0.3222 - val_accuracy: 0.9341\n",
            "Epoch 15/55\n",
            "4382/4382 [==============================] - 180s 41ms/step - loss: 0.2659 - accuracy: 0.9441 - val_loss: 0.3021 - val_accuracy: 0.9500\n",
            "Epoch 16/55\n",
            "4382/4382 [==============================] - 179s 41ms/step - loss: 0.1990 - accuracy: 0.9614 - val_loss: 0.2346 - val_accuracy: 0.9568\n",
            "Epoch 17/55\n",
            "4382/4382 [==============================] - 180s 41ms/step - loss: 0.1843 - accuracy: 0.9649 - val_loss: 0.1800 - val_accuracy: 0.9727\n",
            "Epoch 18/55\n",
            "4382/4382 [==============================] - 179s 41ms/step - loss: 0.1735 - accuracy: 0.9653 - val_loss: 0.1671 - val_accuracy: 0.9659\n",
            "Epoch 19/55\n",
            "4382/4382 [==============================] - 179s 41ms/step - loss: 0.1582 - accuracy: 0.9665 - val_loss: 0.1558 - val_accuracy: 0.9614\n",
            "Epoch 20/55\n",
            "4382/4382 [==============================] - 179s 41ms/step - loss: 0.1478 - accuracy: 0.9722 - val_loss: 0.2168 - val_accuracy: 0.9523\n",
            "Epoch 21/55\n",
            "4382/4382 [==============================] - 179s 41ms/step - loss: 0.1410 - accuracy: 0.9696 - val_loss: 0.1722 - val_accuracy: 0.9614\n",
            "Epoch 22/55\n",
            "4382/4382 [==============================] - 179s 41ms/step - loss: 0.1194 - accuracy: 0.9740 - val_loss: 0.1993 - val_accuracy: 0.9682\n",
            "Epoch 23/55\n",
            "4382/4382 [==============================] - 179s 41ms/step - loss: 0.1196 - accuracy: 0.9712 - val_loss: 0.1389 - val_accuracy: 0.9727\n",
            "Epoch 24/55\n",
            "4382/4382 [==============================] - 179s 41ms/step - loss: 0.1258 - accuracy: 0.9678 - val_loss: 0.1248 - val_accuracy: 0.9705\n",
            "Epoch 25/55\n",
            "4382/4382 [==============================] - 179s 41ms/step - loss: 0.1311 - accuracy: 0.9678 - val_loss: 0.1359 - val_accuracy: 0.9659\n",
            "Epoch 26/55\n",
            "4382/4382 [==============================] - 179s 41ms/step - loss: 0.1251 - accuracy: 0.9722 - val_loss: 0.1308 - val_accuracy: 0.9682\n",
            "Epoch 27/55\n",
            "4382/4382 [==============================] - 179s 41ms/step - loss: 0.1168 - accuracy: 0.9719 - val_loss: 0.2215 - val_accuracy: 0.9682\n",
            "Epoch 28/55\n",
            "4382/4382 [==============================] - 179s 41ms/step - loss: 0.1133 - accuracy: 0.9694 - val_loss: 0.1186 - val_accuracy: 0.9682\n",
            "Epoch 29/55\n",
            "4382/4382 [==============================] - 179s 41ms/step - loss: 0.0954 - accuracy: 0.9738 - val_loss: 0.1361 - val_accuracy: 0.9773\n",
            "Epoch 30/55\n",
            "4382/4382 [==============================] - 179s 41ms/step - loss: 0.1085 - accuracy: 0.9703 - val_loss: 0.1189 - val_accuracy: 0.9727\n",
            "Epoch 31/55\n",
            "4382/4382 [==============================] - 179s 41ms/step - loss: 0.1021 - accuracy: 0.9738 - val_loss: 0.1402 - val_accuracy: 0.9773\n",
            "Epoch 32/55\n",
            "4382/4382 [==============================] - 180s 41ms/step - loss: 0.1033 - accuracy: 0.9728 - val_loss: 0.0879 - val_accuracy: 0.9795\n",
            "Epoch 33/55\n",
            "4382/4382 [==============================] - 179s 41ms/step - loss: 0.0952 - accuracy: 0.9731 - val_loss: 0.1177 - val_accuracy: 0.9705\n",
            "Epoch 34/55\n",
            "4382/4382 [==============================] - 179s 41ms/step - loss: 0.0963 - accuracy: 0.9728 - val_loss: 0.0846 - val_accuracy: 0.9773\n",
            "Epoch 35/55\n",
            "4382/4382 [==============================] - 179s 41ms/step - loss: 0.0974 - accuracy: 0.9726 - val_loss: 0.1047 - val_accuracy: 0.9750\n",
            "Epoch 36/55\n",
            "4382/4382 [==============================] - 179s 41ms/step - loss: 0.0956 - accuracy: 0.9715 - val_loss: 0.1108 - val_accuracy: 0.9750\n",
            "Epoch 37/55\n",
            "4382/4382 [==============================] - 179s 41ms/step - loss: 0.0986 - accuracy: 0.9717 - val_loss: 0.1002 - val_accuracy: 0.9682\n",
            "Epoch 38/55\n",
            "4382/4382 [==============================] - 179s 41ms/step - loss: 0.0892 - accuracy: 0.9731 - val_loss: 0.1059 - val_accuracy: 0.9750\n",
            "Epoch 39/55\n",
            "4382/4382 [==============================] - 179s 41ms/step - loss: 0.0947 - accuracy: 0.9740 - val_loss: 0.1045 - val_accuracy: 0.9659\n",
            "Epoch 40/55\n",
            "4382/4382 [==============================] - 179s 41ms/step - loss: 0.0886 - accuracy: 0.9712 - val_loss: 0.0959 - val_accuracy: 0.9727\n",
            "Epoch 41/55\n",
            "4382/4382 [==============================] - 179s 41ms/step - loss: 0.0814 - accuracy: 0.9744 - val_loss: 0.0932 - val_accuracy: 0.9750\n",
            "Epoch 42/55\n",
            "4382/4382 [==============================] - 180s 41ms/step - loss: 0.0826 - accuracy: 0.9738 - val_loss: 0.1094 - val_accuracy: 0.9727\n",
            "Epoch 43/55\n",
            "4382/4382 [==============================] - 179s 41ms/step - loss: 0.1000 - accuracy: 0.9701 - val_loss: 0.0820 - val_accuracy: 0.9818\n",
            "Epoch 44/55\n",
            "4382/4382 [==============================] - 179s 41ms/step - loss: 0.0909 - accuracy: 0.9726 - val_loss: 0.0751 - val_accuracy: 0.9773\n",
            "Epoch 45/55\n",
            "4382/4382 [==============================] - 179s 41ms/step - loss: 0.0726 - accuracy: 0.9788 - val_loss: 0.0750 - val_accuracy: 0.9795\n",
            "Epoch 46/55\n",
            "4382/4382 [==============================] - 179s 41ms/step - loss: 0.0757 - accuracy: 0.9779 - val_loss: 0.0612 - val_accuracy: 0.9886\n",
            "Epoch 47/55\n",
            "4382/4382 [==============================] - 179s 41ms/step - loss: 0.0817 - accuracy: 0.9733 - val_loss: 0.0973 - val_accuracy: 0.9705\n",
            "Epoch 48/55\n",
            "4382/4382 [==============================] - 179s 41ms/step - loss: 0.0829 - accuracy: 0.9744 - val_loss: 0.0824 - val_accuracy: 0.9773\n",
            "Epoch 49/55\n",
            "4382/4382 [==============================] - 180s 41ms/step - loss: 0.0838 - accuracy: 0.9749 - val_loss: 0.1100 - val_accuracy: 0.9705\n",
            "Epoch 50/55\n",
            "4382/4382 [==============================] - 180s 41ms/step - loss: 0.0742 - accuracy: 0.9740 - val_loss: 0.1249 - val_accuracy: 0.9727\n",
            "Epoch 51/55\n",
            "4382/4382 [==============================] - 179s 41ms/step - loss: 0.0779 - accuracy: 0.9742 - val_loss: 0.0893 - val_accuracy: 0.9795\n",
            "Epoch 52/55\n",
            "4382/4382 [==============================] - 179s 41ms/step - loss: 0.0775 - accuracy: 0.9754 - val_loss: 0.0623 - val_accuracy: 0.9795\n",
            "Epoch 53/55\n",
            "4382/4382 [==============================] - 179s 41ms/step - loss: 0.0805 - accuracy: 0.9728 - val_loss: 0.0885 - val_accuracy: 0.9705\n",
            "Epoch 54/55\n",
            "4382/4382 [==============================] - 179s 41ms/step - loss: 0.0907 - accuracy: 0.9706 - val_loss: 0.0619 - val_accuracy: 0.9818\n",
            "Epoch 55/55\n",
            "4382/4382 [==============================] - 179s 41ms/step - loss: 0.0784 - accuracy: 0.9742 - val_loss: 0.0733 - val_accuracy: 0.9773\n"
          ],
          "name": "stdout"
        }
      ]
    },
    {
      "cell_type": "code",
      "metadata": {
        "id": "pNVO3fRS6It8",
        "colab_type": "code",
        "colab": {
          "base_uri": "https://localhost:8080/",
          "height": 340
        },
        "outputId": "60c76de7-92ec-4801-9a86-f9a09a0bbcdd"
      },
      "source": [
        "print(\"[INFO] evaluating network...\")\n",
        "predictions = model.predict(testX, batch_size=32)\n",
        "print(classification_report(testY.argmax(axis=1), predictions.argmax(axis=1), target_names=lb.classes_))"
      ],
      "execution_count": null,
      "outputs": [
        {
          "output_type": "stream",
          "text": [
            "[INFO] evaluating network...\n",
            "              precision    recall  f1-score   support\n",
            "\n",
            "        GMB1       1.00      1.00      1.00        36\n",
            "       GMB10       0.98      0.96      0.97        46\n",
            "       GMB11       0.97      0.97      0.97        36\n",
            "        GMB2       0.93      0.91      0.92        46\n",
            "        GMB3       0.91      0.93      0.92        45\n",
            "        GMB4       1.00      1.00      1.00        39\n",
            "        GMB5       0.98      1.00      0.99        40\n",
            "        GMB6       1.00      1.00      1.00        45\n",
            "        GMB7       1.00      1.00      1.00        31\n",
            "        GMB8       1.00      1.00      1.00        41\n",
            "        GMB9       1.00      1.00      1.00        35\n",
            "\n",
            "    accuracy                           0.98       440\n",
            "   macro avg       0.98      0.98      0.98       440\n",
            "weighted avg       0.98      0.98      0.98       440\n",
            "\n"
          ],
          "name": "stdout"
        }
      ]
    },
    {
      "cell_type": "code",
      "metadata": {
        "id": "uvb3m7PynA5A",
        "colab_type": "code",
        "colab": {
          "base_uri": "https://localhost:8080/",
          "height": 51
        },
        "outputId": "f326c808-708d-4a43-b4b4-fc14dd99b4b2"
      },
      "source": [
        "test_score = model.evaluate(testX, testY)\n",
        "print(\"Test loss {:.4f}, accuracy {:.2f}%\".format(test_score[0], test_score[1] * 100))"
      ],
      "execution_count": null,
      "outputs": [
        {
          "output_type": "stream",
          "text": [
            "440/440 [==============================] - 6s 13ms/step\n",
            "Test loss 0.0733, accuracy 97.73%\n"
          ],
          "name": "stdout"
        }
      ]
    },
    {
      "cell_type": "code",
      "metadata": {
        "id": "B38mlsHAnC5d",
        "colab_type": "code",
        "colab": {
          "base_uri": "https://localhost:8080/",
          "height": 312
        },
        "outputId": "a28ca238-d512-4571-b610-14e43dadb1ea"
      },
      "source": [
        "import matplotlib.pyplot as plt\n",
        "f, ax = plt.subplots()\n",
        "ax.plot([None] + H.history['accuracy'], 'o-')\n",
        "ax.plot([None] + H.history['val_accuracy'], 'x-')\n",
        "# Plot legend and use the best location automatically: loc = 0.\n",
        "ax.legend(['Train acc', 'Validation acc'], loc = 0)\n",
        "ax.set_title('Training/Validation acc per Epoch')\n",
        "ax.set_xlabel('Epoch')\n",
        "ax.set_ylabel('acc')"
      ],
      "execution_count": null,
      "outputs": [
        {
          "output_type": "execute_result",
          "data": {
            "text/plain": [
              "Text(0, 0.5, 'acc')"
            ]
          },
          "metadata": {
            "tags": []
          },
          "execution_count": 24
        },
        {
          "output_type": "display_data",
          "data": {
            "image/png": "[encoded data removed]",
            "text/plain": [
              "<Figure size 432x288 with 1 Axes>"
            ]
          },
          "metadata": {
            "tags": [],
            "needs_background": "light"
          }
        }
      ]
    },
    {
      "cell_type": "code",
      "metadata": {
        "id": "NB6HYqCwnE7F",
        "colab_type": "code",
        "colab": {
          "base_uri": "https://localhost:8080/",
          "height": 312
        },
        "outputId": "3fa48c42-2b35-4988-bd7e-2d53dfab8761"
      },
      "source": [
        "import matplotlib.pyplot as plt\n",
        "f, ax = plt.subplots()\n",
        "ax.plot([None] + H.history['loss'], 'o-')\n",
        "ax.plot([None] + H.history['val_loss'], 'x-')\n",
        "# Plot legend and use the best location automatically: loc = 0.\n",
        "ax.legend(['Train Loss', 'Validation Loss'], loc = 0)\n",
        "ax.set_title('Training/Validation Loss per Epoch')\n",
        "ax.set_xlabel('Epoch')\n",
        "ax.set_ylabel('Loss')"
      ],
      "execution_count": null,
      "outputs": [
        {
          "output_type": "execute_result",
          "data": {
            "text/plain": [
              "Text(0, 0.5, 'Loss')"
            ]
          },
          "metadata": {
            "tags": []
          },
          "execution_count": 20
        },
        {
          "output_type": "display_data",
          "data": {
            "image/png": "[encoded data removed]",
            "text/plain": [
              "<Figure size 432x288 with 1 Axes>"
            ]
          },
          "metadata": {
            "tags": [],
            "needs_background": "light"
          }
        }
      ]
    },
    {
      "cell_type": "code",
      "metadata": {
        "id": "F6Tj4HfPVqlJ",
        "colab_type": "code",
        "colab": {}
      },
      "source": [
        "#Confusion Matrix\n",
        "#run\n",
        "from sklearn.metrics import multilabel_confusion_matrix\n",
        "\n",
        "predY[1]\n",
        "rounded_labels=np.argmax(predY, axis=1)\n",
        "rounded_labels[1]\n",
        "rounded_predict=np.argmax(testY, axis=1)\n",
        "rounded_predict[1]\n",
        "print(confusion_matrix(rounded_labels, rounded_predict))\n"
      ],
      "execution_count": null,
      "outputs": []
    },
    {
      "cell_type": "code",
      "metadata": {
        "id": "aKuS9Pb4XF7C",
        "colab_type": "code",
        "colab": {}
      },
      "source": [
        "#run ini dulu baru atas\n",
        "import numpy as np\n",
        "\n",
        "\n",
        "def plot_confusion_matrix(cm,\n",
        "                          target_names=['1', '2', '3', '4', '5', '6', '7', '8', '9', '10', '11'],\n",
        "                          title='Confusion matrix',\n",
        "                          cmap=None,\n",
        "                          normalize=True):\n",
        "    \"\"\"\n",
        "    given a sklearn confusion matrix (cm), make a nice plot\n",
        "\n",
        "    Arguments\n",
        "    ---------\n",
        "    cm:           confusion matrix from sklearn.metrics.confusion_matrix\n",
        "\n",
        "    target_names: given classification classes such as [0, 1, 2]\n",
        "                  the class names, for example: ['high', 'medium', 'low']\n",
        "\n",
        "    title:        the text to display at the top of the matrix\n",
        "\n",
        "    cmap:         the gradient of the values displayed from matplotlib.pyplot.cm\n",
        "                  see http://matplotlib.org/examples/color/colormaps_reference.html\n",
        "                  plt.get_cmap('jet') or plt.cm.Blues\n",
        "\n",
        "    normalize:    If False, plot the raw numbers\n",
        "                  If True, plot the proportions\n",
        "\n",
        "    Usage\n",
        "    -----\n",
        "    plot_confusion_matrix(cm           = cm,                  # confusion matrix created by\n",
        "                                                              # sklearn.metrics.confusion_matrix\n",
        "                          normalize    = True,                # show proportions\n",
        "                          target_names = y_labels_vals,       # list of names of the classes\n",
        "                          title        = best_estimator_name) # title of graph\n",
        "\n",
        "    Citiation\n",
        "    ---------\n",
        "    http://scikit-learn.org/stable/auto_examples/model_selection/plot_confusion_matrix.html\n",
        "\n",
        "    \"\"\"\n",
        "    import matplotlib.pyplot as plt\n",
        "    import numpy as np\n",
        "    import itertools\n",
        "\n",
        "    accuracy = np.trace(cm) / float(np.sum(cm))\n",
        "    misclass = 1 - accuracy\n",
        "\n",
        "    if cmap is None:\n",
        "        cmap = plt.get_cmap('Blues')\n",
        "\n",
        "    plt.figure(figsize=(8, 6))\n",
        "    if normalize:\n",
        "      plt.imshow(cm/7, interpolation='nearest', cmap=cmap)\n",
        "    else:\n",
        "      plt.imshow(cm, interpolation='nearest', cmap=cmap)\n",
        "    plt.title(title)\n",
        "    plt.colorbar()\n",
        "\n",
        "    if target_names is not None:\n",
        "        tick_marks = np.arange(len(target_names))\n",
        "        plt.xticks(tick_marks, target_names, rotation=45)\n",
        "        plt.yticks(tick_marks, target_names)\n",
        "\n",
        "    if normalize:\n",
        "        cm = cm.astype('float') / cm.sum(axis=1)[:, np.newaxis]\n",
        "\n",
        "\n",
        "    thresh = cm.max() / 1.5 if normalize else cm.max() / 2\n",
        "    for i, j in itertools.product(range(cm.shape[0]), range(cm.shape[1])):\n",
        "        if normalize:\n",
        "            plt.text(j, i, \"{:0.3f}\".format(cm[i, j]),\n",
        "                     horizontalalignment=\"center\",\n",
        "                     color=\"white\" if cm[i, j] > thresh else \"black\")\n",
        "        else:\n",
        "            plt.text(j, i, \"{:,}\".format(cm[i, j]),\n",
        "                     horizontalalignment=\"center\",\n",
        "                     color=\"white\" if cm[i, j] > thresh else \"black\")\n",
        "\n",
        "\n",
        "    plt.tight_layout()\n",
        "    plt.ylabel('True label')\n",
        "    plt.xlabel('Predicted label\\naccuracy={:0.4f}; misclass={:0.4f}'.format(accuracy, misclass))\n",
        "    plt.show()"
      ],
      "execution_count": null,
      "outputs": []
    },
    {
      "cell_type": "code",
      "metadata": {
        "id": "-yOo3vo7WIeY",
        "colab_type": "code",
        "colab": {}
      },
      "source": [
        "cm = confusion_matrix(rounded_labels,  rounded_predict)\n",
        "plot_confusion_matrix(cm)"
      ],
      "execution_count": null,
      "outputs": []
    },
    {
      "cell_type": "code",
      "metadata": {
        "id": "vUi6UOm_4Rm7",
        "colab_type": "code",
        "colab": {
          "base_uri": "https://localhost:8080/",
          "height": 1000
        },
        "outputId": "a61595f6-657d-495d-bf9d-b6c151c453e9"
      },
      "source": [
        "H.history"
      ],
      "execution_count": null,
      "outputs": [
        {
          "output_type": "execute_result",
          "data": {
            "text/plain": [
              "{'accuracy': [0.11204929,\n",
              "  0.14947513,\n",
              "  0.18712917,\n",
              "  0.23391145,\n",
              "  0.3115016,\n",
              "  0.4160201,\n",
              "  0.47991785,\n",
              "  0.5753081,\n",
              "  0.70104975,\n",
              "  0.7749886,\n",
              "  0.85417616,\n",
              "  0.90187126,\n",
              "  0.93359196,\n",
              "  0.9486536,\n",
              "  0.9440895,\n",
              "  0.9614331,\n",
              "  0.9648562,\n",
              "  0.96531266,\n",
              "  0.9664537,\n",
              "  0.97215885,\n",
              "  0.96964854,\n",
              "  0.9739845,\n",
              "  0.971246,\n",
              "  0.9678229,\n",
              "  0.9678229,\n",
              "  0.97215885,\n",
              "  0.9719306,\n",
              "  0.9694204,\n",
              "  0.97375625,\n",
              "  0.97033316,\n",
              "  0.97375625,\n",
              "  0.97284347,\n",
              "  0.97307163,\n",
              "  0.97284347,\n",
              "  0.97261524,\n",
              "  0.97147423,\n",
              "  0.9717024,\n",
              "  0.97307163,\n",
              "  0.9739845,\n",
              "  0.971246,\n",
              "  0.9744409,\n",
              "  0.97375625,\n",
              "  0.970105,\n",
              "  0.97261524,\n",
              "  0.9787768,\n",
              "  0.97786397,\n",
              "  0.97329986,\n",
              "  0.9744409,\n",
              "  0.9748973,\n",
              "  0.9739845,\n",
              "  0.9742127,\n",
              "  0.9753537,\n",
              "  0.97284347,\n",
              "  0.9705614,\n",
              "  0.9742127],\n",
              " 'loss': [4.661718864519266,\n",
              "  3.1409737515373353,\n",
              "  2.758627399142503,\n",
              "  2.4648454159919884,\n",
              "  2.093780980105816,\n",
              "  1.7664992426803046,\n",
              "  1.599900993295371,\n",
              "  1.2831117561667655,\n",
              "  0.9800938419259775,\n",
              "  0.7876715426954272,\n",
              "  0.5955432770269639,\n",
              "  0.454119520623191,\n",
              "  0.3383026501458837,\n",
              "  0.2774502558422002,\n",
              "  0.2659019211937118,\n",
              "  0.19897661668927308,\n",
              "  0.1842933009131648,\n",
              "  0.17346534439005953,\n",
              "  0.15820600315486388,\n",
              "  0.14775216992942777,\n",
              "  0.14101969827151853,\n",
              "  0.11940011805129998,\n",
              "  0.11963160994701982,\n",
              "  0.12578348562271016,\n",
              "  0.1311137867553329,\n",
              "  0.12509754622488575,\n",
              "  0.11679373768599052,\n",
              "  0.11332125361925496,\n",
              "  0.09541426322221865,\n",
              "  0.10848273997272002,\n",
              "  0.10206068800579517,\n",
              "  0.10325395313165113,\n",
              "  0.09516347226542678,\n",
              "  0.09634573804448383,\n",
              "  0.09743990265224035,\n",
              "  0.09560412718965032,\n",
              "  0.09856868174483056,\n",
              "  0.0892152480886495,\n",
              "  0.09469753309203603,\n",
              "  0.08859896708648807,\n",
              "  0.08136770440523128,\n",
              "  0.08261762360482387,\n",
              "  0.09997439106636426,\n",
              "  0.09094753098813965,\n",
              "  0.07263082777805004,\n",
              "  0.07569783034218822,\n",
              "  0.08171093834811478,\n",
              "  0.08290337486467178,\n",
              "  0.08381673394239476,\n",
              "  0.0742085819195961,\n",
              "  0.0778584193195153,\n",
              "  0.07752474239975934,\n",
              "  0.08050943003131722,\n",
              "  0.09066143685238566,\n",
              "  0.07839995029262113],\n",
              " 'val_accuracy': [0.15000000596046448,\n",
              "  0.13409091532230377,\n",
              "  0.1772727221250534,\n",
              "  0.2750000059604645,\n",
              "  0.32499998807907104,\n",
              "  0.4431818127632141,\n",
              "  0.4431818127632141,\n",
              "  0.7022727131843567,\n",
              "  0.7431818246841431,\n",
              "  0.8409090638160706,\n",
              "  0.8909090757369995,\n",
              "  0.9136363863945007,\n",
              "  0.9409090876579285,\n",
              "  0.9340909123420715,\n",
              "  0.949999988079071,\n",
              "  0.956818163394928,\n",
              "  0.9727272987365723,\n",
              "  0.9659090638160706,\n",
              "  0.9613636136054993,\n",
              "  0.9522727131843567,\n",
              "  0.9613636136054993,\n",
              "  0.9681817889213562,\n",
              "  0.9727272987365723,\n",
              "  0.9704545736312866,\n",
              "  0.9659090638160706,\n",
              "  0.9681817889213562,\n",
              "  0.9681817889213562,\n",
              "  0.9681817889213562,\n",
              "  0.9772727489471436,\n",
              "  0.9727272987365723,\n",
              "  0.9772727489471436,\n",
              "  0.9795454740524292,\n",
              "  0.9704545736312866,\n",
              "  0.9772727489471436,\n",
              "  0.9750000238418579,\n",
              "  0.9750000238418579,\n",
              "  0.9681817889213562,\n",
              "  0.9750000238418579,\n",
              "  0.9659090638160706,\n",
              "  0.9727272987365723,\n",
              "  0.9750000238418579,\n",
              "  0.9727272987365723,\n",
              "  0.9818181991577148,\n",
              "  0.9772727489471436,\n",
              "  0.9795454740524292,\n",
              "  0.9886363744735718,\n",
              "  0.9704545736312866,\n",
              "  0.9772727489471436,\n",
              "  0.9704545736312866,\n",
              "  0.9727272987365723,\n",
              "  0.9795454740524292,\n",
              "  0.9795454740524292,\n",
              "  0.9704545736312866,\n",
              "  0.9818181991577148,\n",
              "  0.9772727489471436],\n",
              " 'val_loss': [4.958195729689165,\n",
              "  2.9976670568639583,\n",
              "  2.742934747175737,\n",
              "  2.383629473772916,\n",
              "  1.8970356529409236,\n",
              "  1.69176448691975,\n",
              "  1.9301607088609176,\n",
              "  1.0082991925152864,\n",
              "  0.8663963393731551,\n",
              "  0.6313869519667192,\n",
              "  0.5407142942601985,\n",
              "  0.417030129107562,\n",
              "  0.3198977421630513,\n",
              "  0.3221840571273457,\n",
              "  0.30208931998773053,\n",
              "  0.23458843312480232,\n",
              "  0.1800144929777492,\n",
              "  0.16708385104482823,\n",
              "  0.1558080484921282,\n",
              "  0.21676221164790066,\n",
              "  0.17218081612478603,\n",
              "  0.1993084493008527,\n",
              "  0.13894203413616527,\n",
              "  0.12479712258685718,\n",
              "  0.13592755482955413,\n",
              "  0.13084814142097126,\n",
              "  0.22149148664691232,\n",
              "  0.11861038424751975,\n",
              "  0.1361144088886001,\n",
              "  0.1189204833724282,\n",
              "  0.1401736312291839,\n",
              "  0.08789694884961302,\n",
              "  0.11765528883446347,\n",
              "  0.08464242375709793,\n",
              "  0.10468225797468966,\n",
              "  0.11075922149148855,\n",
              "  0.10020140375603329,\n",
              "  0.10586824457753788,\n",
              "  0.1045488335869529,\n",
              "  0.09590548473325643,\n",
              "  0.09320887435566295,\n",
              "  0.10943561778827147,\n",
              "  0.08203654651614753,\n",
              "  0.07509828379208391,\n",
              "  0.07495769194581292,\n",
              "  0.06117410429499366,\n",
              "  0.0972805302251469,\n",
              "  0.08235618993639945,\n",
              "  0.11001214283433827,\n",
              "  0.12494364780458538,\n",
              "  0.08932414210655472,\n",
              "  0.06229667020114985,\n",
              "  0.08846808509393171,\n",
              "  0.061880489404905925,\n",
              "  0.07332728393375873]}"
            ]
          },
          "metadata": {
            "tags": []
          },
          "execution_count": 23
        }
      ]
    }
  ]
}